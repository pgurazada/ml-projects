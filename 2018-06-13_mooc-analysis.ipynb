{
  "nbformat": 4,
  "nbformat_minor": 0,
  "metadata": {
    "colab": {
      "name": "2018-06-13_mooc-analysis.ipynb",
      "version": "0.3.2",
      "provenance": [],
      "private_outputs": true,
      "collapsed_sections": []
    },
    "kernelspec": {
      "name": "python3",
      "display_name": "Python 3"
    },
    "accelerator": "GPU"
  },
  "cells": [
    {
      "cell_type": "markdown",
      "metadata": {
        "id": "view-in-github",
        "colab_type": "text"
      },
      "source": [
        "[View in Colaboratory](https://colab.research.google.com/github/pgurazada/ml-projects/blob/master/2018-06-13_mooc-analysis.ipynb)"
      ]
    },
    {
      "metadata": {
        "id": "IPBE8aO2Dd-h",
        "colab_type": "text"
      },
      "cell_type": "markdown",
      "source": [
        "### Connect Google Drive"
      ]
    },
    {
      "metadata": {
        "id": "MKsVthHWDvkI",
        "colab_type": "code",
        "colab": {}
      },
      "cell_type": "code",
      "source": [
        "!apt-get install -y -qq software-properties-common python-software-properties module-init-tools\n",
        "!add-apt-repository -y ppa:alessandro-strada/ppa 2>&1 > /dev/null\n",
        "!apt-get update -qq 2>&1 > /dev/null\n",
        "!apt-get -y install -qq google-drive-ocamlfuse fuse"
      ],
      "execution_count": 0,
      "outputs": []
    },
    {
      "metadata": {
        "id": "kt1p7j6xD2-R",
        "colab_type": "code",
        "colab": {}
      },
      "cell_type": "code",
      "source": [
        "from google.colab import auth\n",
        "auth.authenticate_user()"
      ],
      "execution_count": 0,
      "outputs": []
    },
    {
      "metadata": {
        "id": "dAUKIWglD47J",
        "colab_type": "code",
        "colab": {}
      },
      "cell_type": "code",
      "source": [
        "from oauth2client.client import GoogleCredentials\n",
        "creds = GoogleCredentials.get_application_default()"
      ],
      "execution_count": 0,
      "outputs": []
    },
    {
      "metadata": {
        "id": "SPOBxxezD7UA",
        "colab_type": "code",
        "colab": {}
      },
      "cell_type": "code",
      "source": [
        "import getpass"
      ],
      "execution_count": 0,
      "outputs": []
    },
    {
      "metadata": {
        "id": "rPJNseaKD9Th",
        "colab_type": "code",
        "colab": {}
      },
      "cell_type": "code",
      "source": [
        "!google-drive-ocamlfuse -headless -id={creds.client_id} -secret={creds.client_secret} < /dev/null 2>&1 | grep URL\n",
        "vcode = getpass.getpass()\n",
        "!echo {vcode} | google-drive-ocamlfuse -headless -id={creds.client_id} -secret={creds.client_secret}"
      ],
      "execution_count": 0,
      "outputs": []
    },
    {
      "metadata": {
        "id": "XBaaCAV0EAU5",
        "colab_type": "code",
        "colab": {}
      },
      "cell_type": "code",
      "source": [
        "!mkdir -p drive\n",
        "!google-drive-ocamlfuse drive"
      ],
      "execution_count": 0,
      "outputs": []
    },
    {
      "metadata": {
        "id": "g4D9825HEC5p",
        "colab_type": "code",
        "colab": {}
      },
      "cell_type": "code",
      "source": [
        "!ls drive/data/moocs"
      ],
      "execution_count": 0,
      "outputs": []
    },
    {
      "metadata": {
        "id": "QzGWkLzTFSgb",
        "colab_type": "text"
      },
      "cell_type": "markdown",
      "source": [
        "### Design the MLP"
      ]
    },
    {
      "metadata": {
        "id": "53LNDODIKceN",
        "colab_type": "code",
        "colab": {}
      },
      "cell_type": "code",
      "source": [
        "!pip install -U feather-format"
      ],
      "execution_count": 0,
      "outputs": []
    },
    {
      "metadata": {
        "id": "xeQCD_c4KS3J",
        "colab_type": "code",
        "colab": {}
      },
      "cell_type": "code",
      "source": [
        "import pandas as pd\n",
        "import numpy as np"
      ],
      "execution_count": 0,
      "outputs": []
    },
    {
      "metadata": {
        "id": "0z3e7riPFzwD",
        "colab_type": "code",
        "colab": {}
      },
      "cell_type": "code",
      "source": [
        "from keras.models import Sequential\n",
        "\n",
        "from keras.layers import Dense, Activation\n",
        "\n",
        "from keras.losses import binary_crossentropy\n",
        "\n",
        "from keras.optimizers import RMSprop\n",
        "\n",
        "from keras.metrics import binary_accuracy\n",
        "\n",
        "from keras.callbacks import EarlyStopping, ReduceLROnPlateau\n",
        "\n",
        "from keras.wrappers.scikit_learn import KerasClassifier\n",
        "\n",
        "from keras import backend as K"
      ],
      "execution_count": 0,
      "outputs": []
    },
    {
      "metadata": {
        "id": "06_tmFnhOuzi",
        "colab_type": "code",
        "colab": {}
      },
      "cell_type": "code",
      "source": [
        "from sklearn.model_selection import KFold, RandomizedSearchCV"
      ],
      "execution_count": 0,
      "outputs": []
    },
    {
      "metadata": {
        "id": "ANt42YvTLVMR",
        "colab_type": "text"
      },
      "cell_type": "markdown",
      "source": [
        "### Assembling the neural net for the largest data set"
      ]
    },
    {
      "metadata": {
        "id": "LZqXXYgUKGvn",
        "colab_type": "code",
        "colab": {}
      },
      "cell_type": "code",
      "source": [
        "cs50x_features_train = pd.read_feather('drive/data/moocs/HarvardXCS50x2012_features_train.feather')\n",
        "cs50x_features_test = pd.read_feather('drive/data/moocs/HarvardXCS50x2012_features_test.feather')\n",
        "cs50x_labels_train = pd.read_feather('drive/data/moocs/HarvardXCS50x2012_labels_train.feather')\n",
        "cs50x_labels_test = pd.read_feather('drive/data/moocs/HarvardXCS50x2012_labels_test.feather')"
      ],
      "execution_count": 0,
      "outputs": []
    },
    {
      "metadata": {
        "id": "9XO-dYsVKXxa",
        "colab_type": "code",
        "colab": {}
      },
      "cell_type": "code",
      "source": [
        "features_train, features_test = cs50x_features_train.drop('index', axis=1), cs50x_features_test.drop('index', axis=1)\n",
        "labels_train, labels_test = cs50x_labels_train.drop('index', axis=1), cs50x_labels_test.drop('index', axis=1)\n",
        "\n",
        "features_train = np.array(features_train)\n",
        "features_test = np.array(features_test)\n",
        "\n",
        "labels_train = np.array(labels_train).ravel()\n",
        "labels_test = np.array(labels_test).ravel()"
      ],
      "execution_count": 0,
      "outputs": []
    },
    {
      "metadata": {
        "id": "1KvXXicOKQs9",
        "colab_type": "code",
        "colab": {}
      },
      "cell_type": "code",
      "source": [
        "features_train.shape"
      ],
      "execution_count": 0,
      "outputs": []
    },
    {
      "metadata": {
        "id": "SDvj7aG0KvX7",
        "colab_type": "code",
        "colab": {}
      },
      "cell_type": "code",
      "source": [
        "labels_train.shape"
      ],
      "execution_count": 0,
      "outputs": []
    },
    {
      "metadata": {
        "id": "frNXrx_gHk0T",
        "colab_type": "code",
        "colab": {}
      },
      "cell_type": "code",
      "source": [
        "def build(network_type=Sequential, \n",
        "          nb_initial_layer=64,\n",
        "          dense_layer_lst=[64],\n",
        "          nb_final_layer=1,\n",
        "          learning_rate=1e-4):\n",
        "  \n",
        "  model = network_type()\n",
        "  \n",
        "  model.add(Dense(nb_initial_layer, input_shape=(features_train.shape[1], )))\n",
        "  model.add(Activation('relu'))\n",
        " \n",
        "  for nb_units in dense_layer_lst:\n",
        "    model.add(Dense(nb_units))\n",
        "    model.add(Activation('relu'))\n",
        "    \n",
        "  model.add(Dense(nb_final_layer))\n",
        "  \n",
        "  model.compile(optimizer=RMSprop(lr=learning_rate),\n",
        "                loss=binary_crossentropy,\n",
        "                metrics=[binary_accuracy])\n",
        "  \n",
        "  return model"
      ],
      "execution_count": 0,
      "outputs": []
    },
    {
      "metadata": {
        "id": "lKiJbUhQK7GJ",
        "colab_type": "code",
        "colab": {}
      },
      "cell_type": "code",
      "source": [
        "K.clear_session()"
      ],
      "execution_count": 0,
      "outputs": []
    },
    {
      "metadata": {
        "id": "sKSikRAPLDti",
        "colab_type": "code",
        "colab": {}
      },
      "cell_type": "code",
      "source": [
        "model = build(dense_layer_lst=[64, 64, 32])\n",
        "model.summary()"
      ],
      "execution_count": 0,
      "outputs": []
    },
    {
      "metadata": {
        "id": "ip9GBn1KLGEM",
        "colab_type": "code",
        "colab": {}
      },
      "cell_type": "code",
      "source": [
        "model_output = model.fit(features_train, labels_train,\n",
        "                         batch_size=128,\n",
        "                         epochs=20,\n",
        "                         validation_split=0.2,\n",
        "                         callbacks=[EarlyStopping(patience=4), ReduceLROnPlateau(patience=4, min_lr=1e-6)])"
      ],
      "execution_count": 0,
      "outputs": []
    },
    {
      "metadata": {
        "id": "kyNVdlcwMUJc",
        "colab_type": "code",
        "colab": {}
      },
      "cell_type": "code",
      "source": [
        "model = KerasClassifier(build, verbose=0)"
      ],
      "execution_count": 0,
      "outputs": []
    },
    {
      "metadata": {
        "id": "iM5Qi4BFPMc_",
        "colab_type": "code",
        "colab": {}
      },
      "cell_type": "code",
      "source": [
        "pgrid = {'dense_layer_lst' : [[64, 64, 32], [64, 64], [32, 32], [32, 32, 32], [64, 64, 64]],\n",
        "         'learning_rate': [1e-2, 1e-3, 1e-4, 1e-5]}"
      ],
      "execution_count": 0,
      "outputs": []
    },
    {
      "metadata": {
        "id": "eHS6C9zhPkKp",
        "colab_type": "code",
        "colab": {}
      },
      "cell_type": "code",
      "source": [
        "result_grid = RandomizedSearchCV(estimator=model,\n",
        "                                 param_distributions=pgrid,\n",
        "                                 n_iter=5,\n",
        "                                 n_jobs=-1)"
      ],
      "execution_count": 0,
      "outputs": []
    },
    {
      "metadata": {
        "id": "Ek_cbFSiPsZQ",
        "colab_type": "code",
        "colab": {}
      },
      "cell_type": "code",
      "source": [
        "%%time\n",
        "result_grid.fit(features_train, labels_train)"
      ],
      "execution_count": 0,
      "outputs": []
    },
    {
      "metadata": {
        "id": "MzonSJ-mPy2C",
        "colab_type": "code",
        "colab": {}
      },
      "cell_type": "code",
      "source": [
        ""
      ],
      "execution_count": 0,
      "outputs": []
    }
  ]
}