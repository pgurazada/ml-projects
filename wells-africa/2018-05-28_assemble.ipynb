{
 "cells": [
  {
   "cell_type": "markdown",
   "metadata": {},
   "source": [
    "In this workbook we assemble the required features of the data set as per the observations from the exploratory data analysis."
   ]
  },
  {
   "cell_type": "code",
   "execution_count": 37,
   "metadata": {},
   "outputs": [],
   "source": [
    "import pandas as pd\n",
    "import numpy as np\n",
    "\n",
    "import matplotlib.pyplot as plt\n",
    "import seaborn as sns\n",
    "\n",
    "sns.set_style('ticks')\n",
    "%matplotlib inline"
   ]
  },
  {
   "cell_type": "code",
   "execution_count": 4,
   "metadata": {},
   "outputs": [],
   "source": [
    "wells_features = pd.read_csv('data/well_features.csv')\n",
    "wells_labels = pd.read_csv('data/well_labels.csv')"
   ]
  },
  {
   "cell_type": "code",
   "execution_count": 5,
   "metadata": {},
   "outputs": [
    {
     "name": "stdout",
     "output_type": "stream",
     "text": [
      "<class 'pandas.core.frame.DataFrame'>\n",
      "RangeIndex: 59400 entries, 0 to 59399\n",
      "Data columns (total 40 columns):\n",
      "id                       59400 non-null int64\n",
      "amount_tsh               59400 non-null float64\n",
      "date_recorded            59400 non-null object\n",
      "funder                   55765 non-null object\n",
      "gps_height               59400 non-null int64\n",
      "installer                55745 non-null object\n",
      "longitude                59400 non-null float64\n",
      "latitude                 59400 non-null float64\n",
      "wpt_name                 59400 non-null object\n",
      "num_private              59400 non-null int64\n",
      "basin                    59400 non-null object\n",
      "subvillage               59029 non-null object\n",
      "region                   59400 non-null object\n",
      "region_code              59400 non-null int64\n",
      "district_code            59400 non-null int64\n",
      "lga                      59400 non-null object\n",
      "ward                     59400 non-null object\n",
      "population               59400 non-null int64\n",
      "public_meeting           56066 non-null object\n",
      "recorded_by              59400 non-null object\n",
      "scheme_management        55523 non-null object\n",
      "scheme_name              31234 non-null object\n",
      "permit                   56344 non-null object\n",
      "construction_year        59400 non-null int64\n",
      "extraction_type          59400 non-null object\n",
      "extraction_type_group    59400 non-null object\n",
      "extraction_type_class    59400 non-null object\n",
      "management               59400 non-null object\n",
      "management_group         59400 non-null object\n",
      "payment                  59400 non-null object\n",
      "payment_type             59400 non-null object\n",
      "water_quality            59400 non-null object\n",
      "quality_group            59400 non-null object\n",
      "quantity                 59400 non-null object\n",
      "quantity_group           59400 non-null object\n",
      "source                   59400 non-null object\n",
      "source_type              59400 non-null object\n",
      "source_class             59400 non-null object\n",
      "waterpoint_type          59400 non-null object\n",
      "waterpoint_type_group    59400 non-null object\n",
      "dtypes: float64(3), int64(7), object(30)\n",
      "memory usage: 18.1+ MB\n"
     ]
    }
   ],
   "source": [
    "wells_features.info()"
   ]
  },
  {
   "cell_type": "code",
   "execution_count": 6,
   "metadata": {},
   "outputs": [
    {
     "name": "stdout",
     "output_type": "stream",
     "text": [
      "<class 'pandas.core.frame.DataFrame'>\n",
      "RangeIndex: 59400 entries, 0 to 59399\n",
      "Data columns (total 2 columns):\n",
      "id              59400 non-null int64\n",
      "status_group    59400 non-null object\n",
      "dtypes: int64(1), object(1)\n",
      "memory usage: 928.2+ KB\n"
     ]
    }
   ],
   "source": [
    "wells_labels.info()"
   ]
  },
  {
   "cell_type": "code",
   "execution_count": 8,
   "metadata": {},
   "outputs": [
    {
     "data": {
      "text/plain": [
       "functional                 32259\n",
       "non functional             22824\n",
       "functional needs repair     4317\n",
       "Name: status_group, dtype: int64"
      ]
     },
     "execution_count": 8,
     "metadata": {},
     "output_type": "execute_result"
    }
   ],
   "source": [
    "wells_labels.status_group.value_counts()"
   ]
  },
  {
   "cell_type": "markdown",
   "metadata": {},
   "source": [
    "### Encoding the labels\n",
    "\n",
    "Encoding the labels into numeric values is simple since there are only three categories. Using a dictionary in such cases makes the intent also explicit"
   ]
  },
  {
   "cell_type": "code",
   "execution_count": 10,
   "metadata": {},
   "outputs": [],
   "source": [
    "status_group_to_numeric = {'functional needs repair' : 0,\n",
    "                           'functional' : 1,\n",
    "                           'non functional' : 2}"
   ]
  },
  {
   "cell_type": "code",
   "execution_count": 11,
   "metadata": {},
   "outputs": [],
   "source": [
    "wells_labels['status'] = wells_labels['status_group'].map(status_group_to_numeric)"
   ]
  },
  {
   "cell_type": "code",
   "execution_count": 12,
   "metadata": {},
   "outputs": [
    {
     "data": {
      "text/plain": [
       "1    32259\n",
       "2    22824\n",
       "0     4317\n",
       "Name: status, dtype: int64"
      ]
     },
     "execution_count": 12,
     "metadata": {},
     "output_type": "execute_result"
    }
   ],
   "source": [
    "wells_labels.status.value_counts()"
   ]
  },
  {
   "cell_type": "markdown",
   "metadata": {},
   "source": [
    "### Encoding the features"
   ]
  },
  {
   "cell_type": "code",
   "execution_count": 16,
   "metadata": {},
   "outputs": [
    {
     "data": {
      "text/plain": [
       "(59400, 40)"
      ]
     },
     "execution_count": 16,
     "metadata": {},
     "output_type": "execute_result"
    }
   ],
   "source": [
    "wells_features.shape"
   ]
  },
  {
   "cell_type": "code",
   "execution_count": 64,
   "metadata": {},
   "outputs": [],
   "source": [
    "gps_ht_bins = pd.qcut(wells_features.gps_height, 4, labels=range(4))"
   ]
  },
  {
   "cell_type": "code",
   "execution_count": 65,
   "metadata": {},
   "outputs": [
    {
     "data": {
      "text/plain": [
       "0    21934\n",
       "3    14850\n",
       "2    14843\n",
       "1     7773\n",
       "Name: gps_height, dtype: int64"
      ]
     },
     "execution_count": 65,
     "metadata": {},
     "output_type": "execute_result"
    }
   ],
   "source": [
    "gps_ht_bins.value_counts()"
   ]
  },
  {
   "cell_type": "code",
   "execution_count": 69,
   "metadata": {},
   "outputs": [
    {
     "data": {
      "text/plain": [
       "1966       17\n",
       "1965       19\n",
       "1961       21\n",
       "1962       30\n",
       "1964       40\n",
       "1969       59\n",
       "1968       77\n",
       "1963       85\n",
       "1967       88\n",
       "1960      102\n",
       "1971      145\n",
       "2013      176\n",
       "1973      184\n",
       "1979      192\n",
       "1977      202\n",
       "1981      238\n",
       "1987      302\n",
       "1989      316\n",
       "1991      324\n",
       "1970      411\n",
       "1976      414\n",
       "1986      434\n",
       "1975      437\n",
       "1983      488\n",
       "1988      521\n",
       "2001      540\n",
       "1993      608\n",
       "1992      640\n",
       "1997      644\n",
       "1974      676\n",
       "1972      708\n",
       "1994      738\n",
       "1982      744\n",
       "1984      779\n",
       "1996      811\n",
       "1980      811\n",
       "1985      945\n",
       "1990      954\n",
       "1998      966\n",
       "1999      979\n",
       "2005     1011\n",
       "1995     1014\n",
       "1978     1037\n",
       "2002     1075\n",
       "2012     1084\n",
       "2004     1123\n",
       "2011     1256\n",
       "2003     1286\n",
       "2006     1471\n",
       "2007     1587\n",
       "2000     2091\n",
       "2009     2533\n",
       "2008     2613\n",
       "2010     2645\n",
       "0       20709\n",
       "Name: construction_year, dtype: int64"
      ]
     },
     "execution_count": 69,
     "metadata": {},
     "output_type": "execute_result"
    }
   ],
   "source": [
    "wells_features.construction_year.value_counts(ascending=True)"
   ]
  },
  {
   "cell_type": "code",
   "execution_count": 71,
   "metadata": {},
   "outputs": [],
   "source": [
    "def bin_construction_yr(c):\n",
    "    if c >= 1960 and c < 1970:\n",
    "        return 1\n",
    "    elif c >= 1971 and c < 1980:\n",
    "        return 2\n",
    "    elif c >= 1981 and c < 1990:\n",
    "        return 3\n",
    "    elif c >= 1991 and c < 2000:\n",
    "        return 4\n",
    "    elif c >= 2001 and c < 2010:\n",
    "        return 5\n",
    "    elif c >= 2011 and c < 2020:\n",
    "        return 6\n",
    "    else:\n",
    "        return 0"
   ]
  },
  {
   "cell_type": "code",
   "execution_count": 75,
   "metadata": {},
   "outputs": [],
   "source": [
    "construct_yr_bins = wells_features.construction_year.apply(bin_construction_yr)"
   ]
  },
  {
   "cell_type": "code",
   "execution_count": 76,
   "metadata": {},
   "outputs": [
    {
     "data": {
      "text/plain": [
       "0    27621\n",
       "5    13239\n",
       "4     6724\n",
       "3     4767\n",
       "2     3995\n",
       "6     2516\n",
       "1      538\n",
       "Name: construction_year, dtype: int64"
      ]
     },
     "execution_count": 76,
     "metadata": {},
     "output_type": "execute_result"
    }
   ],
   "source": [
    "construct_yr_bins.value_counts()"
   ]
  },
  {
   "cell_type": "code",
   "execution_count": 78,
   "metadata": {},
   "outputs": [
    {
     "data": {
      "text/plain": [
       "count     59400.000000\n",
       "mean        317.650385\n",
       "std        2997.574558\n",
       "min           0.000000\n",
       "25%           0.000000\n",
       "50%           0.000000\n",
       "75%          20.000000\n",
       "max      350000.000000\n",
       "Name: amount_tsh, dtype: float64"
      ]
     },
     "execution_count": 78,
     "metadata": {},
     "output_type": "execute_result"
    }
   ],
   "source": [
    "wells_features.amount_tsh.describe()"
   ]
  },
  {
   "cell_type": "code",
   "execution_count": 79,
   "metadata": {},
   "outputs": [],
   "source": [
    "def is_tsh_zero(tsh):\n",
    "    if tsh == 0:\n",
    "        return 1\n",
    "    else:\n",
    "        return 0"
   ]
  },
  {
   "cell_type": "code",
   "execution_count": 84,
   "metadata": {},
   "outputs": [],
   "source": [
    "def take_log(tsh):\n",
    "    if tsh == 0:\n",
    "        return 0\n",
    "    else:\n",
    "        return np.log(tsh)"
   ]
  },
  {
   "cell_type": "code",
   "execution_count": 86,
   "metadata": {},
   "outputs": [],
   "source": [
    "tsh_zero = wells_features.amount_tsh.apply(is_tsh_zero)"
   ]
  },
  {
   "cell_type": "code",
   "execution_count": 88,
   "metadata": {},
   "outputs": [],
   "source": [
    "def group_funded(funder):\n",
    "    if funder == 'Government Of Tanzania': return 'Govt'\n",
    "    elif funder == 'Danida': return 'F1'\n",
    "    elif funder == 'Hesawa': return 'F2'\n",
    "    elif funder == 'Rwssp': return 'F3'\n",
    "    elif funder == 'World Bank': return 'F4'\n",
    "    elif funder == 'Kkkt': return 'F5'\n",
    "    elif funder == 'World Vision': return 'F6'\n",
    "    elif funder == 'Unicef': return 'F7'\n",
    "    elif funder == 'Tasaf': return 'F8'\n",
    "    elif funder == 'District Council': return 'F9'\n",
    "    else: \n",
    "        return 'Oth'"
   ]
  },
  {
   "cell_type": "code",
   "execution_count": 89,
   "metadata": {},
   "outputs": [],
   "source": [
    "funded_by = wells_features.funder.apply(group_funded)"
   ]
  },
  {
   "cell_type": "code",
   "execution_count": 90,
   "metadata": {},
   "outputs": [
    {
     "data": {
      "text/plain": [
       "Oth     36967\n",
       "Govt     9084\n",
       "F1       3114\n",
       "F2       2202\n",
       "F3       1374\n",
       "F4       1349\n",
       "F5       1287\n",
       "F6       1246\n",
       "F7       1057\n",
       "F8        877\n",
       "F9        843\n",
       "Name: funder, dtype: int64"
      ]
     },
     "execution_count": 90,
     "metadata": {},
     "output_type": "execute_result"
    }
   ],
   "source": [
    "funded_by.value_counts()"
   ]
  },
  {
   "cell_type": "code",
   "execution_count": 94,
   "metadata": {},
   "outputs": [
    {
     "name": "stdout",
     "output_type": "stream",
     "text": [
      "<class 'pandas.core.frame.DataFrame'>\n",
      "RangeIndex: 59400 entries, 0 to 59399\n",
      "Data columns (total 45 columns):\n",
      "id                       59400 non-null int64\n",
      "amount_tsh               59400 non-null float64\n",
      "date_recorded            59400 non-null object\n",
      "funder                   55765 non-null object\n",
      "gps_height               59400 non-null int64\n",
      "installer                55745 non-null object\n",
      "longitude                59400 non-null float64\n",
      "latitude                 59400 non-null float64\n",
      "wpt_name                 59400 non-null object\n",
      "num_private              59400 non-null int64\n",
      "basin                    59400 non-null object\n",
      "subvillage               59029 non-null object\n",
      "region                   59400 non-null object\n",
      "region_code              59400 non-null int64\n",
      "district_code            59400 non-null int64\n",
      "lga                      59400 non-null object\n",
      "ward                     59400 non-null object\n",
      "population               59400 non-null int64\n",
      "public_meeting           56066 non-null object\n",
      "recorded_by              59400 non-null object\n",
      "scheme_management        55523 non-null object\n",
      "scheme_name              31234 non-null object\n",
      "permit                   56344 non-null object\n",
      "construction_year        59400 non-null int64\n",
      "extraction_type          59400 non-null object\n",
      "extraction_type_group    59400 non-null object\n",
      "extraction_type_class    59400 non-null object\n",
      "management               59400 non-null object\n",
      "management_group         59400 non-null object\n",
      "payment                  59400 non-null object\n",
      "payment_type             59400 non-null object\n",
      "water_quality            59400 non-null object\n",
      "quality_group            59400 non-null object\n",
      "quantity                 59400 non-null object\n",
      "quantity_group           59400 non-null object\n",
      "source                   59400 non-null object\n",
      "source_type              59400 non-null object\n",
      "source_class             59400 non-null object\n",
      "waterpoint_type          59400 non-null object\n",
      "waterpoint_type_group    59400 non-null object\n",
      "construct_yr_bin         59400 non-null int64\n",
      "funded_by                59400 non-null object\n",
      "gps_ht_bin               59400 non-null category\n",
      "tsh                      59400 non-null float64\n",
      "tsh_zero                 59400 non-null int64\n",
      "dtypes: category(1), float64(4), int64(9), object(31)\n",
      "memory usage: 20.0+ MB\n"
     ]
    }
   ],
   "source": [
    "wells_features.info()"
   ]
  },
  {
   "cell_type": "code",
   "execution_count": 93,
   "metadata": {},
   "outputs": [],
   "source": [
    "wells_features = wells_features.assign(gps_ht_bin = pd.qcut(wells_features.gps_height, 4, labels=range(4)),\n",
    "                                       construct_yr_bin = wells_features.construction_year.apply(bin_construction_yr),\n",
    "                                       tsh = wells_features.amount_tsh.apply(take_log),\n",
    "                                       tsh_zero = wells_features.amount_tsh.apply(is_tsh_zero),\n",
    "                                       funded_by = wells_features.funder.apply(group_funded))"
   ]
  }
 ],
 "metadata": {
  "kernelspec": {
   "display_name": "Python 3",
   "language": "python",
   "name": "python3"
  },
  "language_info": {
   "codemirror_mode": {
    "name": "ipython",
    "version": 3
   },
   "file_extension": ".py",
   "mimetype": "text/x-python",
   "name": "python",
   "nbconvert_exporter": "python",
   "pygments_lexer": "ipython3",
   "version": "3.6.5"
  }
 },
 "nbformat": 4,
 "nbformat_minor": 2
}
