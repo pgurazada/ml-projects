{
 "cells": [
  {
   "cell_type": "markdown",
   "metadata": {},
   "source": [
    "This script accomplishes a few key tasks\n",
    " - Convert all categorical features to numeric (using dummy variables)\n",
    " - fill in missing values\n",
    " - scale all the features"
   ]
  },
  {
   "cell_type": "code",
   "execution_count": 33,
   "metadata": {},
   "outputs": [],
   "source": [
    "import pandas as pd\n",
    "import numpy as np"
   ]
  },
  {
   "cell_type": "code",
   "execution_count": 2,
   "metadata": {},
   "outputs": [],
   "source": [
    "from sklearn.preprocessing import Imputer, StandardScaler\n",
    "from sklearn.base import TransformerMixin"
   ]
  },
  {
   "cell_type": "markdown",
   "metadata": {},
   "source": [
    "# Preprocessing the features \n",
    "\n",
    "We define the following class that imputes missing numerical features with the mean and the categorical features with the most often occuring value"
   ]
  },
  {
   "cell_type": "code",
   "execution_count": 4,
   "metadata": {},
   "outputs": [],
   "source": [
    "class DataFrameImputer(TransformerMixin):\n",
    "    def __init__(self):\n",
    "        \"\"\"*Impute missing values*.\n",
    "\n",
    "        Columns of dtype object are imputed with the most frequent value\n",
    "        in column.\n",
    "\n",
    "        Columns of other types are imputed with mean of column.\n",
    "\n",
    "        \"\"\"\n",
    "    def fit(self, X, y=None):\n",
    "\n",
    "        self.fill = pd.Series([X[c].value_counts().index[0]\n",
    "            if X[c].dtype == np.dtype('O') else X[c].mean() for c in X],\n",
    "            index=X.columns)\n",
    "\n",
    "        return self\n",
    "\n",
    "    def transform(self, X, y=None):\n",
    "        return X.fillna(self.fill)"
   ]
  },
  {
   "cell_type": "code",
   "execution_count": 14,
   "metadata": {},
   "outputs": [],
   "source": [
    "wells_features_train = pd.read_csv('processed/wells_features_train.csv')"
   ]
  },
  {
   "cell_type": "code",
   "execution_count": 15,
   "metadata": {},
   "outputs": [
    {
     "name": "stdout",
     "output_type": "stream",
     "text": [
      "<class 'pandas.core.frame.DataFrame'>\n",
      "RangeIndex: 59400 entries, 0 to 59399\n",
      "Data columns (total 30 columns):\n",
      "gps_height               59400 non-null object\n",
      "longitude                59400 non-null float64\n",
      "latitude                 59400 non-null float64\n",
      "basin                    59400 non-null object\n",
      "region                   59400 non-null object\n",
      "lga                      59400 non-null object\n",
      "public_meeting           56066 non-null object\n",
      "scheme_management        55523 non-null object\n",
      "permit                   56344 non-null object\n",
      "construction_year        59400 non-null object\n",
      "extraction_type          59400 non-null object\n",
      "extraction_type_group    59400 non-null object\n",
      "management_group         59400 non-null object\n",
      "payment_type             59400 non-null object\n",
      "quality_group            59400 non-null object\n",
      "quantity_group           59400 non-null object\n",
      "source_type              59400 non-null object\n",
      "source_class             59400 non-null object\n",
      "waterpoint_type          59400 non-null object\n",
      "tsh                      59400 non-null float64\n",
      "tsh_zero                 59400 non-null int64\n",
      "funded_by                59400 non-null object\n",
      "data_collec_at           59400 non-null object\n",
      "installer_cat            59400 non-null object\n",
      "wpt_name_cat             59400 non-null object\n",
      "num_private_cat          59400 non-null object\n",
      "subvillage_cat           59400 non-null object\n",
      "ward_cat                 59400 non-null object\n",
      "pop                      59400 non-null float64\n",
      "pop_zero                 59400 non-null int64\n",
      "dtypes: float64(4), int64(2), object(24)\n",
      "memory usage: 13.6+ MB\n"
     ]
    }
   ],
   "source": [
    "wells_features_train.info()"
   ]
  },
  {
   "cell_type": "markdown",
   "metadata": {},
   "source": [
    "The initial shortlist of features did not deal with missing values. We check the situation and then apply the corerection."
   ]
  },
  {
   "cell_type": "code",
   "execution_count": 16,
   "metadata": {},
   "outputs": [
    {
     "data": {
      "text/plain": [
       "gps_height                  0\n",
       "longitude                   0\n",
       "latitude                    0\n",
       "basin                       0\n",
       "region                      0\n",
       "lga                         0\n",
       "public_meeting           3334\n",
       "scheme_management        3877\n",
       "permit                   3056\n",
       "construction_year           0\n",
       "extraction_type             0\n",
       "extraction_type_group       0\n",
       "management_group            0\n",
       "payment_type                0\n",
       "quality_group               0\n",
       "quantity_group              0\n",
       "source_type                 0\n",
       "source_class                0\n",
       "waterpoint_type             0\n",
       "tsh                         0\n",
       "tsh_zero                    0\n",
       "funded_by                   0\n",
       "data_collec_at              0\n",
       "installer_cat               0\n",
       "wpt_name_cat                0\n",
       "num_private_cat             0\n",
       "subvillage_cat              0\n",
       "ward_cat                    0\n",
       "pop                         0\n",
       "pop_zero                    0\n",
       "dtype: int64"
      ]
     },
     "execution_count": 16,
     "metadata": {},
     "output_type": "execute_result"
    }
   ],
   "source": [
    "wells_features_train.isnull().sum()"
   ]
  },
  {
   "cell_type": "code",
   "execution_count": 17,
   "metadata": {},
   "outputs": [],
   "source": [
    "wells_features_train = DataFrameImputer().fit_transform(wells_features_train)"
   ]
  },
  {
   "cell_type": "markdown",
   "metadata": {},
   "source": [
    "We now check that the missing values have been taken care of"
   ]
  },
  {
   "cell_type": "code",
   "execution_count": 18,
   "metadata": {},
   "outputs": [
    {
     "data": {
      "text/plain": [
       "gps_height               0\n",
       "longitude                0\n",
       "latitude                 0\n",
       "basin                    0\n",
       "region                   0\n",
       "lga                      0\n",
       "public_meeting           0\n",
       "scheme_management        0\n",
       "permit                   0\n",
       "construction_year        0\n",
       "extraction_type          0\n",
       "extraction_type_group    0\n",
       "management_group         0\n",
       "payment_type             0\n",
       "quality_group            0\n",
       "quantity_group           0\n",
       "source_type              0\n",
       "source_class             0\n",
       "waterpoint_type          0\n",
       "tsh                      0\n",
       "tsh_zero                 0\n",
       "funded_by                0\n",
       "data_collec_at           0\n",
       "installer_cat            0\n",
       "wpt_name_cat             0\n",
       "num_private_cat          0\n",
       "subvillage_cat           0\n",
       "ward_cat                 0\n",
       "pop                      0\n",
       "pop_zero                 0\n",
       "dtype: int64"
      ]
     },
     "execution_count": 18,
     "metadata": {},
     "output_type": "execute_result"
    }
   ],
   "source": [
    "wells_features_train.isnull().sum()"
   ]
  },
  {
   "cell_type": "markdown",
   "metadata": {},
   "source": [
    "Now we convert all categorical features to dummies"
   ]
  },
  {
   "cell_type": "code",
   "execution_count": 19,
   "metadata": {},
   "outputs": [],
   "source": [
    "wells_features_train = pd.get_dummies(wells_features_train)"
   ]
  },
  {
   "cell_type": "markdown",
   "metadata": {},
   "source": [
    "Now check that the dummies have been created"
   ]
  },
  {
   "cell_type": "code",
   "execution_count": 22,
   "metadata": {},
   "outputs": [
    {
     "data": {
      "text/plain": [
       "(59400, 279)"
      ]
     },
     "execution_count": 22,
     "metadata": {},
     "output_type": "execute_result"
    }
   ],
   "source": [
    "wells_features_train.shape"
   ]
  },
  {
   "cell_type": "markdown",
   "metadata": {},
   "source": [
    "Next step is to scale and center the data"
   ]
  },
  {
   "cell_type": "code",
   "execution_count": 23,
   "metadata": {},
   "outputs": [],
   "source": [
    "wells_features_train = StandardScaler().fit_transform(wells_features_train)"
   ]
  },
  {
   "cell_type": "markdown",
   "metadata": {},
   "source": [
    "Now, we need to store this matrix and import it when we do model exploration"
   ]
  },
  {
   "cell_type": "code",
   "execution_count": 34,
   "metadata": {},
   "outputs": [],
   "source": [
    "np.save('processed/wells_feature_matrix', wells_features_train)"
   ]
  },
  {
   "cell_type": "markdown",
   "metadata": {},
   "source": [
    "# Preprocessing the labels"
   ]
  },
  {
   "cell_type": "code",
   "execution_count": 25,
   "metadata": {},
   "outputs": [],
   "source": [
    "wells_labels_train = pd.read_csv('processed/wells_labels_train.csv')"
   ]
  },
  {
   "cell_type": "code",
   "execution_count": 26,
   "metadata": {},
   "outputs": [
    {
     "name": "stdout",
     "output_type": "stream",
     "text": [
      "<class 'pandas.core.frame.DataFrame'>\n",
      "RangeIndex: 59400 entries, 0 to 59399\n",
      "Data columns (total 1 columns):\n",
      "status    59400 non-null int64\n",
      "dtypes: int64(1)\n",
      "memory usage: 464.1 KB\n"
     ]
    }
   ],
   "source": [
    "wells_labels_train.info()"
   ]
  },
  {
   "cell_type": "markdown",
   "metadata": {},
   "source": [
    "There is nothing to do in this case"
   ]
  }
 ],
 "metadata": {
  "kernelspec": {
   "display_name": "Python 3",
   "language": "python",
   "name": "python3"
  },
  "language_info": {
   "codemirror_mode": {
    "name": "ipython",
    "version": 3
   },
   "file_extension": ".py",
   "mimetype": "text/x-python",
   "name": "python",
   "nbconvert_exporter": "python",
   "pygments_lexer": "ipython3",
   "version": "3.6.5"
  }
 },
 "nbformat": 4,
 "nbformat_minor": 2
}
