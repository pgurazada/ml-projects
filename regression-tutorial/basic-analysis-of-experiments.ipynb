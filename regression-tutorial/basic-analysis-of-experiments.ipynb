{
 "cells": [
  {
   "cell_type": "markdown",
   "metadata": {},
   "source": [
    "# Objective\n",
    "\n",
    "Highlight typical analysis that can be done on experimental data, replicated from [here](https://bookdown.org/content/1340/basic-data-analysis-experiments.html)"
   ]
  },
  {
   "cell_type": "code",
   "execution_count": 28,
   "metadata": {},
   "outputs": [],
   "source": [
    "library(tidyverse)\n",
    "library(readxl)\n",
    "library(psych)\n",
    "library(ggpubr)\n",
    "library(type3anova)"
   ]
  },
  {
   "cell_type": "code",
   "execution_count": 25,
   "metadata": {},
   "outputs": [
    {
     "name": "stderr",
     "output_type": "stream",
     "text": [
      "Warning message in download.file(\"http://users.telenet.be/samuelfranssens/tutorial_data/power_conspicuous_consumption.xlsx\", :\n",
      "“URL http://users.telenet.be/samuelfranssens/tutorial_data/power_conspicuous_consumption.xlsx: cannot open destfile '~/ml-projects/regresion-tutorial/power_conspicuous_consumption.xlsx', reason 'No such file or directory'”Warning message in download.file(\"http://users.telenet.be/samuelfranssens/tutorial_data/power_conspicuous_consumption.xlsx\", :\n",
      "“download had nonzero exit status”"
     ]
    }
   ],
   "source": [
    "download.file('http://users.telenet.be/samuelfranssens/tutorial_data/power_conspicuous_consumption.xlsx',\n",
    "              '~/ml-projects/regresion-tutorial/power_conspicuous_consumption.xlsx')"
   ]
  },
  {
   "cell_type": "code",
   "execution_count": 4,
   "metadata": {},
   "outputs": [],
   "source": [
    "powercc = read_excel('power_conspicuous_consumption.xlsx')"
   ]
  },
  {
   "cell_type": "code",
   "execution_count": 5,
   "metadata": {},
   "outputs": [
    {
     "name": "stdout",
     "output_type": "stream",
     "text": [
      "Observations: 147\n",
      "Variables: 39\n",
      "$ subject        \u001b[3m\u001b[38;5;246m<dbl>\u001b[39m\u001b[23m 1, 2, 3, 4, 5, 6, 7, 8, 9, 10, 11, 12, 13, 14, 15, 16,…\n",
      "$ start_date     \u001b[3m\u001b[38;5;246m<dttm>\u001b[39m\u001b[23m 2012-04-19 09:32:56, 2012-04-19 09:31:26, 2012-04-19 …\n",
      "$ end_date       \u001b[3m\u001b[38;5;246m<dttm>\u001b[39m\u001b[23m 2012-04-19 09:49:42, 2012-04-19 09:51:13, 2012-04-19 …\n",
      "$ duration       \u001b[3m\u001b[38;5;246m<dbl>\u001b[39m\u001b[23m 1006, 1187, 1400, 1616, 2006, 1668, 2455, 2354, 1071, …\n",
      "$ finished       \u001b[3m\u001b[38;5;246m<dbl>\u001b[39m\u001b[23m 1, 1, 1, 1, 1, 1, 1, 1, 1, 1, 1, 1, 1, 1, 1, 1, 1, 1, …\n",
      "$ power          \u001b[3m\u001b[38;5;246m<chr>\u001b[39m\u001b[23m \"high\", \"low\", \"low\", \"low\", \"high\", \"high\", \"low\", \"h…\n",
      "$ audience       \u001b[3m\u001b[38;5;246m<chr>\u001b[39m\u001b[23m \"public\", \"public\", \"public\", \"public\", \"public\", \"pub…\n",
      "$ group_size     \u001b[3m\u001b[38;5;246m<dbl>\u001b[39m\u001b[23m 8, 8, 8, 8, 8, 8, 8, 8, 8, 8, 8, 8, 8, 8, 8, 8, 8, 8, …\n",
      "$ gender         \u001b[3m\u001b[38;5;246m<chr>\u001b[39m\u001b[23m \"male\", \"male\", \"male\", \"male\", \"male\", \"male\", \"male\"…\n",
      "$ age            \u001b[3m\u001b[38;5;246m<dbl>\u001b[39m\u001b[23m 18, 18, 19, 18, 18, 20, 19, 19, 18, 18, 19, 18, 18, 19…\n",
      "$ dominance1     \u001b[3m\u001b[38;5;246m<dbl>\u001b[39m\u001b[23m 1, 0, 1, 1, 1, 0, 0, 1, 1, 0, 0, 0, 0, 1, 0, 0, 1, 1, …\n",
      "$ dominance2     \u001b[3m\u001b[38;5;246m<dbl>\u001b[39m\u001b[23m 1, 1, 0, 0, 1, 1, 1, 1, 1, 1, 1, 1, 0, 1, 1, 1, 1, 1, …\n",
      "$ dominance3     \u001b[3m\u001b[38;5;246m<dbl>\u001b[39m\u001b[23m 0, 1, 0, 1, 0, 1, 0, 1, 1, 1, 0, 1, 0, 1, 1, 0, 1, 1, …\n",
      "$ dominance4     \u001b[3m\u001b[38;5;246m<dbl>\u001b[39m\u001b[23m 1, 0, 0, 1, 1, 0, 0, 1, 1, 1, 0, 1, 0, 1, 0, 1, 1, 1, …\n",
      "$ dominance5     \u001b[3m\u001b[38;5;246m<dbl>\u001b[39m\u001b[23m 0, 0, 0, 0, 1, 1, 0, 1, 1, 1, 1, 1, 0, 1, 1, 1, 1, 1, …\n",
      "$ dominance6     \u001b[3m\u001b[38;5;246m<dbl>\u001b[39m\u001b[23m 1, 1, 1, 1, 1, 1, 1, 1, 1, 1, 1, 1, 1, 1, 1, 1, 1, 1, …\n",
      "$ dominance7     \u001b[3m\u001b[38;5;246m<dbl>\u001b[39m\u001b[23m 0, 1, 0, 0, 1, 1, 0, 1, 0, 1, 0, 0, 0, 1, 0, 0, 1, 1, …\n",
      "$ sa1            \u001b[3m\u001b[38;5;246m<dbl>\u001b[39m\u001b[23m 0, 1, 1, 1, 1, 0, 0, 1, 1, 1, 1, 1, 1, 1, 0, 1, 1, 1, …\n",
      "$ sa2            \u001b[3m\u001b[38;5;246m<dbl>\u001b[39m\u001b[23m 0, 1, 0, 1, 0, 1, 0, 1, 0, 1, 1, 0, 1, 1, 0, 0, 1, 1, …\n",
      "$ sa3            \u001b[3m\u001b[38;5;246m<dbl>\u001b[39m\u001b[23m 0, 1, 1, 1, 1, 1, 1, 1, 0, 1, 1, 1, 0, 1, 1, 0, 1, 1, …\n",
      "$ sa4            \u001b[3m\u001b[38;5;246m<dbl>\u001b[39m\u001b[23m 1, 1, 1, 1, 1, 0, 1, 1, 1, 1, 1, 1, 1, 1, 1, 0, 0, 1, …\n",
      "$ sa5            \u001b[3m\u001b[38;5;246m<dbl>\u001b[39m\u001b[23m 0, 0, 0, 0, 0, 0, 0, 0, 0, 0, 0, 0, 1, 0, 0, 0, 0, 0, …\n",
      "$ sa6            \u001b[3m\u001b[38;5;246m<dbl>\u001b[39m\u001b[23m 1, 1, 0, 1, 1, 1, 1, 1, 0, 1, 1, 1, 0, 1, 1, 1, 1, 1, …\n",
      "$ sa7            \u001b[3m\u001b[38;5;246m<dbl>\u001b[39m\u001b[23m 1, 1, 1, 1, 1, 0, 1, 1, 1, 1, 1, 1, 1, 1, 1, 1, 1, 1, …\n",
      "$ sa8            \u001b[3m\u001b[38;5;246m<dbl>\u001b[39m\u001b[23m 0, 1, 0, 1, 1, 1, 1, 0, 1, 1, 1, 1, 1, 0, 1, 0, 1, 1, …\n",
      "$ sa9            \u001b[3m\u001b[38;5;246m<dbl>\u001b[39m\u001b[23m 1, 0, 1, 1, 1, 0, 1, 1, 1, 0, 1, 1, 1, 1, 0, 0, 0, 1, …\n",
      "$ sa10           \u001b[3m\u001b[38;5;246m<dbl>\u001b[39m\u001b[23m 1, 1, 1, 1, 1, 0, 1, 1, 1, 1, 1, 1, 1, 1, 1, 1, 0, 1, …\n",
      "$ sa11           \u001b[3m\u001b[38;5;246m<dbl>\u001b[39m\u001b[23m 0, 0, 0, 0, 1, 0, 1, 0, 0, 0, 1, 1, 1, 1, 0, 0, 0, 1, …\n",
      "$ inconspicuous1 \u001b[3m\u001b[38;5;246m<dbl>\u001b[39m\u001b[23m 3, 4, 3, 4, 3, 5, 7, 4, 5, 3, 3, 3, 6, 5, 1, 5, 4, 5, …\n",
      "$ inconspicuous2 \u001b[3m\u001b[38;5;246m<dbl>\u001b[39m\u001b[23m 2, 2, 3, 5, 2, 3, 3, 7, 3, 3, 1, 2, 2, 3, 1, 2, 2, 4, …\n",
      "$ inconspicuous3 \u001b[3m\u001b[38;5;246m<dbl>\u001b[39m\u001b[23m 4, 7, 5, 7, 5, 6, 4, 5, 6, 5, 2, 5, 3, 8, 6, 6, 5, 7, …\n",
      "$ inconspicuous4 \u001b[3m\u001b[38;5;246m<dbl>\u001b[39m\u001b[23m 3, 5, 3, 5, 4, 6, 3, 4, 3, 5, 3, 3, 5, 2, 3, 6, 3, 4, …\n",
      "$ inconspicuous5 \u001b[3m\u001b[38;5;246m<dbl>\u001b[39m\u001b[23m 1, 2, 3, 5, 1, 5, 3, 2, 4, 1, 2, 3, 2, 3, 1, 2, 1, 4, …\n",
      "$ conspicuous1   \u001b[3m\u001b[38;5;246m<dbl>\u001b[39m\u001b[23m 6, 8, 5, 9, 8, 7, 7, 6, 6, 7, 7, 5, 1, 7, 5, 2, 6, 7, …\n",
      "$ conspicuous2   \u001b[3m\u001b[38;5;246m<dbl>\u001b[39m\u001b[23m 5, 8, 5, 9, 8, 8, 6, 7, 5, 8, 7, 6, 5, 8, 7, 7, 7, 7, …\n",
      "$ conspicuous3   \u001b[3m\u001b[38;5;246m<dbl>\u001b[39m\u001b[23m 4, 7, 6, 8, 8, 7, 7, 6, 7, 7, 9, 4, 4, 6, 6, 5, 7, 6, …\n",
      "$ conspicuous4   \u001b[3m\u001b[38;5;246m<dbl>\u001b[39m\u001b[23m 4, 8, 6, 8, 8, 7, 3, 7, 7, 5, 5, 5, 5, 3, 4, 5, 7, 7, …\n",
      "$ conspicuous5   \u001b[3m\u001b[38;5;246m<dbl>\u001b[39m\u001b[23m 6, 7, 5, 8, 7, 7, 1, 7, 4, 7, 4, 5, 2, 7, 2, 5, 9, 4, …\n",
      "$ agree          \u001b[3m\u001b[38;5;246m<dbl>\u001b[39m\u001b[23m 2, 5, 3, 5, 2, 3, 6, 5, 5, 2, 4, 5, 6, 4, 5, 4, 7, 6, …\n"
     ]
    }
   ],
   "source": [
    "glimpse(powercc)"
   ]
  },
  {
   "cell_type": "code",
   "execution_count": 6,
   "metadata": {},
   "outputs": [],
   "source": [
    "powercc %>%\n",
    "    mutate(subject = factor(subject),\n",
    "           power = factor(power, levels = c('low', 'high')),\n",
    "           audience = factor(audience, levels = c('private', 'public'))) ->\n",
    "    powercc"
   ]
  },
  {
   "cell_type": "code",
   "execution_count": 7,
   "metadata": {},
   "outputs": [],
   "source": [
    "powercc %>%\n",
    "    filter(finished == 1) ->\n",
    "    powercc"
   ]
  },
  {
   "cell_type": "code",
   "execution_count": 12,
   "metadata": {},
   "outputs": [
    {
     "data": {
      "text/plain": [
       "\n",
       "Reliability analysis   \n",
       "Call: alpha(x = .)\n",
       "\n",
       "  raw_alpha std.alpha G6(smc) average_r S/N   ase mean   sd median_r\n",
       "      0.69      0.67    0.67      0.23 2.1 0.038 0.63 0.27     0.21\n",
       "\n",
       " lower alpha upper     95% confidence boundaries\n",
       "0.61 0.69 0.76 \n",
       "\n",
       " Reliability if an item is dropped:\n",
       "           raw_alpha std.alpha G6(smc) average_r S/N alpha se var.r med.r\n",
       "dominance1      0.68      0.67    0.66      0.25 2.0    0.039 0.016  0.22\n",
       "dominance2      0.65      0.63    0.62      0.22 1.7    0.043 0.018  0.21\n",
       "dominance3      0.59      0.58    0.56      0.19 1.4    0.050 0.014  0.20\n",
       "dominance4      0.62      0.60    0.59      0.20 1.5    0.047 0.018  0.21\n",
       "dominance5      0.65      0.64    0.63      0.23 1.7    0.043 0.021  0.21\n",
       "dominance6      0.70      0.70    0.68      0.28 2.4    0.038 0.009  0.25\n",
       "dominance7      0.65      0.64    0.62      0.23 1.8    0.043 0.017  0.20\n",
       "\n",
       " Item statistics \n",
       "             n raw.r std.r r.cor r.drop mean   sd\n",
       "dominance1 143  0.52  0.49  0.33   0.29 0.53 0.50\n",
       "dominance2 143  0.59  0.61  0.52   0.42 0.80 0.40\n",
       "dominance3 143  0.75  0.74  0.71   0.59 0.52 0.50\n",
       "dominance4 143  0.68  0.68  0.61   0.50 0.58 0.50\n",
       "dominance5 143  0.61  0.59  0.48   0.40 0.55 0.50\n",
       "dominance6 143  0.29  0.38  0.19   0.14 0.91 0.29\n",
       "dominance7 143  0.62  0.59  0.48   0.41 0.53 0.50\n",
       "\n",
       "Non missing response frequency for each item\n",
       "              0    1 miss\n",
       "dominance1 0.47 0.53    0\n",
       "dominance2 0.20 0.80    0\n",
       "dominance3 0.48 0.52    0\n",
       "dominance4 0.42 0.58    0\n",
       "dominance5 0.45 0.55    0\n",
       "dominance6 0.09 0.91    0\n",
       "dominance7 0.47 0.53    0"
      ]
     },
     "metadata": {},
     "output_type": "display_data"
    }
   ],
   "source": [
    "powercc %>%\n",
    "    select(starts_with('dominance')) %>%\n",
    "    alpha()"
   ]
  },
  {
   "cell_type": "code",
   "execution_count": 15,
   "metadata": {},
   "outputs": [],
   "source": [
    "powercc %>%\n",
    "    mutate(dominance = (dominance1 + dominance2 + dominance3 + dominance4 + dominance5 + dominance7)/7,\n",
    "           cc = (conspicuous1 + conspicuous2 + conspicuous3 + conspicuous4 + conspicuous5)/5,\n",
    "           icc = (inconspicuous1 + inconspicuous2 + inconspicuous3 + inconspicuous4 + inconspicuous5)/5) %>% \n",
    "    select(-starts_with('sa')) ->\n",
    "    powercc"
   ]
  },
  {
   "cell_type": "code",
   "execution_count": 17,
   "metadata": {},
   "outputs": [
    {
     "data": {
      "text/plain": [
       "\n",
       "\tTwo Sample t-test\n",
       "\n",
       "data:  dominance by gender\n",
       "t = -0.6553, df = 141, p-value = 0.5133\n",
       "alternative hypothesis: true difference in means is not equal to 0\n",
       "95 percent confidence interval:\n",
       " -0.11633858  0.05841294\n",
       "sample estimates:\n",
       "mean in group female   mean in group male \n",
       "           0.4857143            0.5146771 \n"
      ]
     },
     "metadata": {},
     "output_type": "display_data"
    }
   ],
   "source": [
    "t.test(dominance ~ gender,\n",
    "       data = powercc, \n",
    "       var.equal = TRUE)"
   ]
  },
  {
   "cell_type": "code",
   "execution_count": 19,
   "metadata": {},
   "outputs": [
    {
     "data": {
      "text/plain": [
       "\n",
       "\tPaired t-test\n",
       "\n",
       "data:  powercc$cc and powercc$icc\n",
       "t = 25.064, df = 142, p-value < 2.2e-16\n",
       "alternative hypothesis: true difference in means is not equal to 0\n",
       "95 percent confidence interval:\n",
       " 2.214575 2.593816\n",
       "sample estimates:\n",
       "mean of the differences \n",
       "               2.404196 \n"
      ]
     },
     "metadata": {},
     "output_type": "display_data"
    }
   ],
   "source": [
    "t.test(powercc$cc, powercc$icc,\n",
    "       paired = TRUE)"
   ]
  },
  {
   "cell_type": "code",
   "execution_count": 22,
   "metadata": {},
   "outputs": [
    {
     "data": {
      "text/html": [
       "<table>\n",
       "<caption>A tibble: 4 × 5</caption>\n",
       "<thead>\n",
       "\t<tr><th scope=col>audience</th><th scope=col>power</th><th scope=col>n_samples</th><th scope=col>mean_cc</th><th scope=col>sd_cc</th></tr>\n",
       "\t<tr><th scope=col>&lt;fct&gt;</th><th scope=col>&lt;fct&gt;</th><th scope=col>&lt;int&gt;</th><th scope=col>&lt;dbl&gt;</th><th scope=col>&lt;dbl&gt;</th></tr>\n",
       "</thead>\n",
       "<tbody>\n",
       "\t<tr><td>private</td><td>low </td><td>34</td><td>6.082353</td><td>1.0387844</td></tr>\n",
       "\t<tr><td>private</td><td>high</td><td>31</td><td>5.632258</td><td>0.8930797</td></tr>\n",
       "\t<tr><td>public </td><td>low </td><td>40</td><td>6.170000</td><td>1.1453809</td></tr>\n",
       "\t<tr><td>public </td><td>high</td><td>38</td><td>6.073684</td><td>1.0297426</td></tr>\n",
       "</tbody>\n",
       "</table>\n"
      ],
      "text/latex": [
       "A tibble: 4 × 5\n",
       "\\begin{tabular}{r|lllll}\n",
       " audience & power & n\\_samples & mean\\_cc & sd\\_cc\\\\\n",
       " <fct> & <fct> & <int> & <dbl> & <dbl>\\\\\n",
       "\\hline\n",
       "\t private & low  & 34 & 6.082353 & 1.0387844\\\\\n",
       "\t private & high & 31 & 5.632258 & 0.8930797\\\\\n",
       "\t public  & low  & 40 & 6.170000 & 1.1453809\\\\\n",
       "\t public  & high & 38 & 6.073684 & 1.0297426\\\\\n",
       "\\end{tabular}\n"
      ],
      "text/markdown": [
       "\n",
       "A tibble: 4 × 5\n",
       "\n",
       "| audience &lt;fct&gt; | power &lt;fct&gt; | n_samples &lt;int&gt; | mean_cc &lt;dbl&gt; | sd_cc &lt;dbl&gt; |\n",
       "|---|---|---|---|---|\n",
       "| private | low  | 34 | 6.082353 | 1.0387844 |\n",
       "| private | high | 31 | 5.632258 | 0.8930797 |\n",
       "| public  | low  | 40 | 6.170000 | 1.1453809 |\n",
       "| public  | high | 38 | 6.073684 | 1.0297426 |\n",
       "\n"
      ],
      "text/plain": [
       "  audience power n_samples mean_cc  sd_cc    \n",
       "1 private  low   34        6.082353 1.0387844\n",
       "2 private  high  31        5.632258 0.8930797\n",
       "3 public   low   40        6.170000 1.1453809\n",
       "4 public   high  38        6.073684 1.0297426"
      ]
     },
     "metadata": {},
     "output_type": "display_data"
    }
   ],
   "source": [
    "powercc %>%\n",
    "    group_by(audience, power) %>%\n",
    "    summarize(n_samples = n(),\n",
    "              mean_cc = mean(cc),\n",
    "              sd_cc = sd(cc))"
   ]
  },
  {
   "cell_type": "code",
   "execution_count": 27,
   "metadata": {},
   "outputs": [
    {
     "data": {
      "image/png": "[encoded data removed]",
      "text/plain": [
       "plot without title"
      ]
     },
     "metadata": {},
     "output_type": "display_data"
    }
   ],
   "source": [
    "ggplot(powercc, aes(x = audience, y = cc, fill = power)) +\n",
    "    geom_boxplot() +\n",
    "    theme_pubr()"
   ]
  },
  {
   "cell_type": "code",
   "execution_count": 29,
   "metadata": {},
   "outputs": [],
   "source": [
    "model_linear = lm(cc ~ power * audience, data = powercc)"
   ]
  },
  {
   "cell_type": "code",
   "execution_count": 30,
   "metadata": {},
   "outputs": [
    {
     "data": {
      "text/html": [
       "<table>\n",
       "<caption>A tibble: 5 × 6</caption>\n",
       "<thead>\n",
       "\t<tr><th scope=col>term</th><th scope=col>ss</th><th scope=col>df1</th><th scope=col>df2</th><th scope=col>f</th><th scope=col>pvalue</th></tr>\n",
       "\t<tr><th scope=col>&lt;chr&gt;</th><th scope=col>&lt;dbl&gt;</th><th scope=col>&lt;dbl&gt;</th><th scope=col>&lt;int&gt;</th><th scope=col>&lt;dbl&gt;</th><th scope=col>&lt;dbl&gt;</th></tr>\n",
       "</thead>\n",
       "<tbody>\n",
       "\t<tr><td>(Intercept)   </td><td>5080.291778</td><td>  1</td><td>139</td><td>4709.783043</td><td>0.000</td></tr>\n",
       "\t<tr><td>power         </td><td>   2.642501</td><td>  1</td><td>139</td><td>   2.449782</td><td>0.120</td></tr>\n",
       "\t<tr><td>audience      </td><td>   2.477470</td><td>  1</td><td>139</td><td>   2.296786</td><td>0.132</td></tr>\n",
       "\t<tr><td>power:audience</td><td>   1.107748</td><td>  1</td><td>139</td><td>   1.026960</td><td>0.313</td></tr>\n",
       "\t<tr><td>Residuals     </td><td> 149.934838</td><td>139</td><td>139</td><td>         NA</td><td>   NA</td></tr>\n",
       "</tbody>\n",
       "</table>\n"
      ],
      "text/latex": [
       "A tibble: 5 × 6\n",
       "\\begin{tabular}{r|llllll}\n",
       " term & ss & df1 & df2 & f & pvalue\\\\\n",
       " <chr> & <dbl> & <dbl> & <int> & <dbl> & <dbl>\\\\\n",
       "\\hline\n",
       "\t (Intercept)    & 5080.291778 &   1 & 139 & 4709.783043 & 0.000\\\\\n",
       "\t power          &    2.642501 &   1 & 139 &    2.449782 & 0.120\\\\\n",
       "\t audience       &    2.477470 &   1 & 139 &    2.296786 & 0.132\\\\\n",
       "\t power:audience &    1.107748 &   1 & 139 &    1.026960 & 0.313\\\\\n",
       "\t Residuals      &  149.934838 & 139 & 139 &          NA &    NA\\\\\n",
       "\\end{tabular}\n"
      ],
      "text/markdown": [
       "\n",
       "A tibble: 5 × 6\n",
       "\n",
       "| term &lt;chr&gt; | ss &lt;dbl&gt; | df1 &lt;dbl&gt; | df2 &lt;int&gt; | f &lt;dbl&gt; | pvalue &lt;dbl&gt; |\n",
       "|---|---|---|---|---|---|\n",
       "| (Intercept)    | 5080.291778 |   1 | 139 | 4709.783043 | 0.000 |\n",
       "| power          |    2.642501 |   1 | 139 |    2.449782 | 0.120 |\n",
       "| audience       |    2.477470 |   1 | 139 |    2.296786 | 0.132 |\n",
       "| power:audience |    1.107748 |   1 | 139 |    1.026960 | 0.313 |\n",
       "| Residuals      |  149.934838 | 139 | 139 |          NA |    NA |\n",
       "\n"
      ],
      "text/plain": [
       "  term           ss          df1 df2 f           pvalue\n",
       "1 (Intercept)    5080.291778   1 139 4709.783043 0.000 \n",
       "2 power             2.642501   1 139    2.449782 0.120 \n",
       "3 audience          2.477470   1 139    2.296786 0.132 \n",
       "4 power:audience    1.107748   1 139    1.026960 0.313 \n",
       "5 Residuals       149.934838 139 139          NA    NA "
      ]
     },
     "metadata": {},
     "output_type": "display_data"
    }
   ],
   "source": [
    "type3anova(model_linear)"
   ]
  },
  {
   "cell_type": "code",
   "execution_count": 33,
   "metadata": {},
   "outputs": [
    {
     "data": {
      "text/html": [
       "<table>\n",
       "<caption>A tibble: 6 × 6</caption>\n",
       "<thead>\n",
       "\t<tr><th scope=col>term</th><th scope=col>ss</th><th scope=col>df1</th><th scope=col>df2</th><th scope=col>f</th><th scope=col>pvalue</th></tr>\n",
       "\t<tr><th scope=col>&lt;chr&gt;</th><th scope=col>&lt;dbl&gt;</th><th scope=col>&lt;dbl&gt;</th><th scope=col>&lt;int&gt;</th><th scope=col>&lt;dbl&gt;</th><th scope=col>&lt;dbl&gt;</th></tr>\n",
       "</thead>\n",
       "<tbody>\n",
       "\t<tr><td>(Intercept)   </td><td> 27.060391</td><td>  1</td><td>138</td><td>25.195560</td><td>0.000</td></tr>\n",
       "\t<tr><td>age           </td><td>  1.720871</td><td>  1</td><td>138</td><td> 1.602280</td><td>0.208</td></tr>\n",
       "\t<tr><td>power         </td><td>  1.884690</td><td>  1</td><td>138</td><td> 1.754809</td><td>0.187</td></tr>\n",
       "\t<tr><td>audience      </td><td>  2.033152</td><td>  1</td><td>138</td><td> 1.893040</td><td>0.171</td></tr>\n",
       "\t<tr><td>power:audience</td><td>  1.249846</td><td>  1</td><td>138</td><td> 1.163715</td><td>0.283</td></tr>\n",
       "\t<tr><td>Residuals     </td><td>148.213966</td><td>138</td><td>138</td><td>       NA</td><td>   NA</td></tr>\n",
       "</tbody>\n",
       "</table>\n"
      ],
      "text/latex": [
       "A tibble: 6 × 6\n",
       "\\begin{tabular}{r|llllll}\n",
       " term & ss & df1 & df2 & f & pvalue\\\\\n",
       " <chr> & <dbl> & <dbl> & <int> & <dbl> & <dbl>\\\\\n",
       "\\hline\n",
       "\t (Intercept)    &  27.060391 &   1 & 138 & 25.195560 & 0.000\\\\\n",
       "\t age            &   1.720871 &   1 & 138 &  1.602280 & 0.208\\\\\n",
       "\t power          &   1.884690 &   1 & 138 &  1.754809 & 0.187\\\\\n",
       "\t audience       &   2.033152 &   1 & 138 &  1.893040 & 0.171\\\\\n",
       "\t power:audience &   1.249846 &   1 & 138 &  1.163715 & 0.283\\\\\n",
       "\t Residuals      & 148.213966 & 138 & 138 &        NA &    NA\\\\\n",
       "\\end{tabular}\n"
      ],
      "text/markdown": [
       "\n",
       "A tibble: 6 × 6\n",
       "\n",
       "| term &lt;chr&gt; | ss &lt;dbl&gt; | df1 &lt;dbl&gt; | df2 &lt;int&gt; | f &lt;dbl&gt; | pvalue &lt;dbl&gt; |\n",
       "|---|---|---|---|---|---|\n",
       "| (Intercept)    |  27.060391 |   1 | 138 | 25.195560 | 0.000 |\n",
       "| age            |   1.720871 |   1 | 138 |  1.602280 | 0.208 |\n",
       "| power          |   1.884690 |   1 | 138 |  1.754809 | 0.187 |\n",
       "| audience       |   2.033152 |   1 | 138 |  1.893040 | 0.171 |\n",
       "| power:audience |   1.249846 |   1 | 138 |  1.163715 | 0.283 |\n",
       "| Residuals      | 148.213966 | 138 | 138 |        NA |    NA |\n",
       "\n"
      ],
      "text/plain": [
       "  term           ss         df1 df2 f         pvalue\n",
       "1 (Intercept)     27.060391   1 138 25.195560 0.000 \n",
       "2 age              1.720871   1 138  1.602280 0.208 \n",
       "3 power            1.884690   1 138  1.754809 0.187 \n",
       "4 audience         2.033152   1 138  1.893040 0.171 \n",
       "5 power:audience   1.249846   1 138  1.163715 0.283 \n",
       "6 Residuals      148.213966 138 138        NA    NA "
      ]
     },
     "metadata": {},
     "output_type": "display_data"
    }
   ],
   "source": [
    "lm(cc ~ age + power * audience, data = powercc) %>%\n",
    "    type3anova()"
   ]
  },
  {
   "cell_type": "code",
   "execution_count": null,
   "metadata": {},
   "outputs": [],
   "source": []
  },
  {
   "cell_type": "code",
   "execution_count": null,
   "metadata": {},
   "outputs": [],
   "source": [
    "anova(model_stylized_ce_below_cutoff)"
   ]
  }
 ],
 "metadata": {
  "kernelspec": {
   "display_name": "R",
   "language": "R",
   "name": "ir"
  },
  "language_info": {
   "codemirror_mode": "r",
   "file_extension": ".r",
   "mimetype": "text/x-r-source",
   "name": "R",
   "pygments_lexer": "r",
   "version": "3.6.1"
  }
 },
 "nbformat": 4,
 "nbformat_minor": 2
}
