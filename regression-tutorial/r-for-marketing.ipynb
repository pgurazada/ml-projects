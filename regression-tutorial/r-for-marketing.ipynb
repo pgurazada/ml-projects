{
 "cells": [
  {
   "cell_type": "markdown",
   "metadata": {},
   "source": [
    "# 1. Objective\n",
    "\n",
    "Reproduce the R for marketing workshop from [here](https://bookdown.org/content/1340/data.html)"
   ]
  },
  {
   "cell_type": "markdown",
   "metadata": {},
   "source": [
    "# 2. Imports"
   ]
  },
  {
   "cell_type": "code",
   "execution_count": 1,
   "metadata": {},
   "outputs": [
    {
     "name": "stderr",
     "output_type": "stream",
     "text": [
      "Registered S3 methods overwritten by 'ggplot2':\n",
      "  method         from \n",
      "  [.quosures     rlang\n",
      "  c.quosures     rlang\n",
      "  print.quosures rlang\n",
      "Registered S3 method overwritten by 'rvest':\n",
      "  method            from\n",
      "  read_xml.response xml2\n",
      "── \u001b[1mAttaching packages\u001b[22m ─────────────────────────────────────── tidyverse 1.2.1 ──\n",
      "\u001b[32m✔\u001b[39m \u001b[34mggplot2\u001b[39m 3.1.1       \u001b[32m✔\u001b[39m \u001b[34mpurrr  \u001b[39m 0.3.2  \n",
      "\u001b[32m✔\u001b[39m \u001b[34mtibble \u001b[39m 2.1.1       \u001b[32m✔\u001b[39m \u001b[34mdplyr  \u001b[39m 0.8.0.\u001b[31m1\u001b[39m\n",
      "\u001b[32m✔\u001b[39m \u001b[34mtidyr  \u001b[39m 0.8.3       \u001b[32m✔\u001b[39m \u001b[34mstringr\u001b[39m 1.4.0  \n",
      "\u001b[32m✔\u001b[39m \u001b[34mreadr  \u001b[39m 1.3.1       \u001b[32m✔\u001b[39m \u001b[34mforcats\u001b[39m 0.4.0  \n",
      "── \u001b[1mConflicts\u001b[22m ────────────────────────────────────────── tidyverse_conflicts() ──\n",
      "\u001b[31m✖\u001b[39m \u001b[34mdplyr\u001b[39m::\u001b[32mfilter()\u001b[39m masks \u001b[34mstats\u001b[39m::filter()\n",
      "\u001b[31m✖\u001b[39m \u001b[34mdplyr\u001b[39m::\u001b[32mlag()\u001b[39m    masks \u001b[34mstats\u001b[39m::lag()\n",
      "Loading required package: magrittr\n",
      "\n",
      "Attaching package: ‘magrittr’\n",
      "\n",
      "The following object is masked from ‘package:purrr’:\n",
      "\n",
      "    set_names\n",
      "\n",
      "The following object is masked from ‘package:tidyr’:\n",
      "\n",
      "    extract\n",
      "\n"
     ]
    }
   ],
   "source": [
    "library(tidyverse)\n",
    "library(ggpubr)"
   ]
  },
  {
   "cell_type": "markdown",
   "metadata": {},
   "source": [
    "# 3. Data"
   ]
  },
  {
   "cell_type": "code",
   "execution_count": null,
   "metadata": {},
   "outputs": [],
   "source": [
    "download.file('https://s3.amazonaws.com/tomslee-airbnb-data-2/paris.zip',\n",
    "              '~/ml-projects/regression-tutorial/paris-listings.zip')"
   ]
  },
  {
   "cell_type": "markdown",
   "metadata": {},
   "source": [
    "## 3.1. Inspect one file"
   ]
  },
  {
   "cell_type": "code",
   "execution_count": null,
   "metadata": {},
   "outputs": [],
   "source": [
    "paris_listings_df = read_csv('paris-listings/tomslee_airbnb_paris_1478_2017-07-25.csv')"
   ]
  },
  {
   "cell_type": "code",
   "execution_count": null,
   "metadata": {},
   "outputs": [],
   "source": [
    "nrow(paris_listings_df)"
   ]
  },
  {
   "cell_type": "code",
   "execution_count": null,
   "metadata": {},
   "outputs": [],
   "source": [
    "names(paris_listings_df)"
   ]
  },
  {
   "cell_type": "code",
   "execution_count": null,
   "metadata": {},
   "outputs": [],
   "source": [
    "head(paris_listings_df)"
   ]
  },
  {
   "cell_type": "code",
   "execution_count": null,
   "metadata": {},
   "outputs": [],
   "source": [
    "paris_listings_df %>% \n",
    "    group_by(neighborhood) %>% \n",
    "    summarize(mean_price = mean(price)) %>%\n",
    "    arrange(desc(mean_price)) %>% \n",
    "    head(10) %>%\n",
    "    pull(neighborhood) -> \n",
    "    most_expensive_neighborhoods"
   ]
  },
  {
   "cell_type": "code",
   "execution_count": null,
   "metadata": {},
   "outputs": [],
   "source": [
    "ggplot(filter(paris_listings_df, neighborhood %in% most_expensive_neighborhoods), \n",
    "       aes(x = neighborhood, y = price)) +\n",
    "    geom_jitter() +\n",
    "    stat_summary(fun.y = median, colour = \"tomato3\", size = 4, geom = \"point\") +\n",
    "    coord_flip() +\n",
    "    theme_pubr()"
   ]
  },
  {
   "cell_type": "markdown",
   "metadata": {},
   "source": [
    "## 3.2. Merge all the csv's in the directory"
   ]
  },
  {
   "cell_type": "code",
   "execution_count": 2,
   "metadata": {},
   "outputs": [
    {
     "name": "stderr",
     "output_type": "stream",
     "text": [
      "Parsed with column specification:\n",
      "cols(\n",
      "  room_id = \u001b[32mcol_double()\u001b[39m,\n",
      "  host_id = \u001b[32mcol_double()\u001b[39m,\n",
      "  room_type = \u001b[31mcol_character()\u001b[39m,\n",
      "  borough = \u001b[33mcol_logical()\u001b[39m,\n",
      "  neighborhood = \u001b[31mcol_character()\u001b[39m,\n",
      "  reviews = \u001b[32mcol_double()\u001b[39m,\n",
      "  overall_satisfaction = \u001b[32mcol_double()\u001b[39m,\n",
      "  accommodates = \u001b[32mcol_double()\u001b[39m,\n",
      "  bedrooms = \u001b[32mcol_double()\u001b[39m,\n",
      "  price = \u001b[32mcol_double()\u001b[39m,\n",
      "  minstay = \u001b[32mcol_double()\u001b[39m,\n",
      "  latitude = \u001b[32mcol_double()\u001b[39m,\n",
      "  longitude = \u001b[32mcol_double()\u001b[39m,\n",
      "  last_modified = \u001b[34mcol_datetime(format = \"\")\u001b[39m\n",
      ")\n",
      "Parsed with column specification:\n",
      "cols(\n",
      "  room_id = \u001b[32mcol_double()\u001b[39m,\n",
      "  host_id = \u001b[32mcol_double()\u001b[39m,\n",
      "  room_type = \u001b[31mcol_character()\u001b[39m,\n",
      "  borough = \u001b[33mcol_logical()\u001b[39m,\n",
      "  neighborhood = \u001b[31mcol_character()\u001b[39m,\n",
      "  reviews = \u001b[32mcol_double()\u001b[39m,\n",
      "  overall_satisfaction = \u001b[32mcol_double()\u001b[39m,\n",
      "  accommodates = \u001b[32mcol_double()\u001b[39m,\n",
      "  bedrooms = \u001b[32mcol_double()\u001b[39m,\n",
      "  price = \u001b[32mcol_double()\u001b[39m,\n",
      "  minstay = \u001b[32mcol_double()\u001b[39m,\n",
      "  latitude = \u001b[32mcol_double()\u001b[39m,\n",
      "  longitude = \u001b[32mcol_double()\u001b[39m,\n",
      "  last_modified = \u001b[34mcol_datetime(format = \"\")\u001b[39m\n",
      ")\n",
      "Parsed with column specification:\n",
      "cols(\n",
      "  room_id = \u001b[32mcol_double()\u001b[39m,\n",
      "  host_id = \u001b[32mcol_double()\u001b[39m,\n",
      "  room_type = \u001b[31mcol_character()\u001b[39m,\n",
      "  borough = \u001b[33mcol_logical()\u001b[39m,\n",
      "  neighborhood = \u001b[31mcol_character()\u001b[39m,\n",
      "  reviews = \u001b[32mcol_double()\u001b[39m,\n",
      "  overall_satisfaction = \u001b[32mcol_double()\u001b[39m,\n",
      "  accommodates = \u001b[32mcol_double()\u001b[39m,\n",
      "  bedrooms = \u001b[32mcol_double()\u001b[39m,\n",
      "  price = \u001b[32mcol_double()\u001b[39m,\n",
      "  minstay = \u001b[32mcol_double()\u001b[39m,\n",
      "  latitude = \u001b[32mcol_double()\u001b[39m,\n",
      "  longitude = \u001b[32mcol_double()\u001b[39m,\n",
      "  last_modified = \u001b[34mcol_datetime(format = \"\")\u001b[39m\n",
      ")\n",
      "Parsed with column specification:\n",
      "cols(\n",
      "  room_id = \u001b[32mcol_double()\u001b[39m,\n",
      "  host_id = \u001b[32mcol_double()\u001b[39m,\n",
      "  room_type = \u001b[31mcol_character()\u001b[39m,\n",
      "  borough = \u001b[33mcol_logical()\u001b[39m,\n",
      "  neighborhood = \u001b[31mcol_character()\u001b[39m,\n",
      "  reviews = \u001b[32mcol_double()\u001b[39m,\n",
      "  overall_satisfaction = \u001b[32mcol_double()\u001b[39m,\n",
      "  accommodates = \u001b[32mcol_double()\u001b[39m,\n",
      "  bedrooms = \u001b[32mcol_double()\u001b[39m,\n",
      "  price = \u001b[32mcol_double()\u001b[39m,\n",
      "  minstay = \u001b[32mcol_double()\u001b[39m,\n",
      "  latitude = \u001b[32mcol_double()\u001b[39m,\n",
      "  longitude = \u001b[32mcol_double()\u001b[39m,\n",
      "  last_modified = \u001b[34mcol_datetime(format = \"\")\u001b[39m\n",
      ")\n",
      "Parsed with column specification:\n",
      "cols(\n",
      "  room_id = \u001b[32mcol_double()\u001b[39m,\n",
      "  host_id = \u001b[32mcol_double()\u001b[39m,\n",
      "  room_type = \u001b[31mcol_character()\u001b[39m,\n",
      "  borough = \u001b[33mcol_logical()\u001b[39m,\n",
      "  neighborhood = \u001b[31mcol_character()\u001b[39m,\n",
      "  reviews = \u001b[32mcol_double()\u001b[39m,\n",
      "  overall_satisfaction = \u001b[32mcol_double()\u001b[39m,\n",
      "  accommodates = \u001b[32mcol_double()\u001b[39m,\n",
      "  bedrooms = \u001b[32mcol_double()\u001b[39m,\n",
      "  price = \u001b[32mcol_double()\u001b[39m,\n",
      "  minstay = \u001b[32mcol_double()\u001b[39m,\n",
      "  latitude = \u001b[32mcol_double()\u001b[39m,\n",
      "  longitude = \u001b[32mcol_double()\u001b[39m,\n",
      "  last_modified = \u001b[34mcol_datetime(format = \"\")\u001b[39m\n",
      ")\n",
      "Parsed with column specification:\n",
      "cols(\n",
      "  room_id = \u001b[32mcol_double()\u001b[39m,\n",
      "  host_id = \u001b[32mcol_double()\u001b[39m,\n",
      "  room_type = \u001b[31mcol_character()\u001b[39m,\n",
      "  borough = \u001b[33mcol_logical()\u001b[39m,\n",
      "  neighborhood = \u001b[31mcol_character()\u001b[39m,\n",
      "  reviews = \u001b[32mcol_double()\u001b[39m,\n",
      "  overall_satisfaction = \u001b[32mcol_double()\u001b[39m,\n",
      "  accommodates = \u001b[32mcol_double()\u001b[39m,\n",
      "  bedrooms = \u001b[32mcol_double()\u001b[39m,\n",
      "  price = \u001b[32mcol_double()\u001b[39m,\n",
      "  minstay = \u001b[32mcol_double()\u001b[39m,\n",
      "  latitude = \u001b[32mcol_double()\u001b[39m,\n",
      "  longitude = \u001b[32mcol_double()\u001b[39m,\n",
      "  last_modified = \u001b[34mcol_datetime(format = \"\")\u001b[39m\n",
      ")\n",
      "Parsed with column specification:\n",
      "cols(\n",
      "  room_id = \u001b[32mcol_double()\u001b[39m,\n",
      "  host_id = \u001b[32mcol_double()\u001b[39m,\n",
      "  room_type = \u001b[31mcol_character()\u001b[39m,\n",
      "  borough = \u001b[33mcol_logical()\u001b[39m,\n",
      "  neighborhood = \u001b[31mcol_character()\u001b[39m,\n",
      "  reviews = \u001b[32mcol_double()\u001b[39m,\n",
      "  overall_satisfaction = \u001b[32mcol_double()\u001b[39m,\n",
      "  accommodates = \u001b[32mcol_double()\u001b[39m,\n",
      "  bedrooms = \u001b[32mcol_double()\u001b[39m,\n",
      "  price = \u001b[32mcol_double()\u001b[39m,\n",
      "  minstay = \u001b[32mcol_double()\u001b[39m,\n",
      "  latitude = \u001b[32mcol_double()\u001b[39m,\n",
      "  longitude = \u001b[32mcol_double()\u001b[39m,\n",
      "  last_modified = \u001b[34mcol_datetime(format = \"\")\u001b[39m\n",
      ")\n",
      "Parsed with column specification:\n",
      "cols(\n",
      "  room_id = \u001b[32mcol_double()\u001b[39m,\n",
      "  host_id = \u001b[32mcol_double()\u001b[39m,\n",
      "  room_type = \u001b[31mcol_character()\u001b[39m,\n",
      "  borough = \u001b[33mcol_logical()\u001b[39m,\n",
      "  neighborhood = \u001b[31mcol_character()\u001b[39m,\n",
      "  reviews = \u001b[32mcol_double()\u001b[39m,\n",
      "  overall_satisfaction = \u001b[32mcol_double()\u001b[39m,\n",
      "  accommodates = \u001b[32mcol_double()\u001b[39m,\n",
      "  bedrooms = \u001b[32mcol_double()\u001b[39m,\n",
      "  price = \u001b[32mcol_double()\u001b[39m,\n",
      "  minstay = \u001b[32mcol_double()\u001b[39m,\n",
      "  latitude = \u001b[32mcol_double()\u001b[39m,\n",
      "  longitude = \u001b[32mcol_double()\u001b[39m,\n",
      "  last_modified = \u001b[34mcol_datetime(format = \"\")\u001b[39m\n",
      ")\n",
      "Parsed with column specification:\n",
      "cols(\n",
      "  room_id = \u001b[32mcol_double()\u001b[39m,\n",
      "  host_id = \u001b[32mcol_double()\u001b[39m,\n",
      "  room_type = \u001b[31mcol_character()\u001b[39m,\n",
      "  borough = \u001b[33mcol_logical()\u001b[39m,\n",
      "  neighborhood = \u001b[31mcol_character()\u001b[39m,\n",
      "  reviews = \u001b[32mcol_double()\u001b[39m,\n",
      "  overall_satisfaction = \u001b[32mcol_double()\u001b[39m,\n",
      "  accommodates = \u001b[32mcol_double()\u001b[39m,\n",
      "  bedrooms = \u001b[32mcol_double()\u001b[39m,\n",
      "  price = \u001b[32mcol_double()\u001b[39m,\n",
      "  minstay = \u001b[32mcol_double()\u001b[39m,\n",
      "  latitude = \u001b[32mcol_double()\u001b[39m,\n",
      "  longitude = \u001b[32mcol_double()\u001b[39m,\n",
      "  last_modified = \u001b[34mcol_datetime(format = \"\")\u001b[39m\n",
      ")\n",
      "Parsed with column specification:\n",
      "cols(\n",
      "  room_id = \u001b[32mcol_double()\u001b[39m,\n",
      "  host_id = \u001b[32mcol_double()\u001b[39m,\n",
      "  room_type = \u001b[31mcol_character()\u001b[39m,\n",
      "  borough = \u001b[33mcol_logical()\u001b[39m,\n",
      "  neighborhood = \u001b[31mcol_character()\u001b[39m,\n",
      "  reviews = \u001b[32mcol_double()\u001b[39m,\n",
      "  overall_satisfaction = \u001b[32mcol_double()\u001b[39m,\n",
      "  accommodates = \u001b[32mcol_double()\u001b[39m,\n",
      "  bedrooms = \u001b[32mcol_double()\u001b[39m,\n",
      "  price = \u001b[32mcol_double()\u001b[39m,\n",
      "  minstay = \u001b[33mcol_logical()\u001b[39m,\n",
      "  latitude = \u001b[32mcol_double()\u001b[39m,\n",
      "  longitude = \u001b[32mcol_double()\u001b[39m,\n",
      "  last_modified = \u001b[34mcol_datetime(format = \"\")\u001b[39m\n",
      ")\n",
      "Parsed with column specification:\n",
      "cols(\n",
      "  room_id = \u001b[32mcol_double()\u001b[39m,\n",
      "  host_id = \u001b[32mcol_double()\u001b[39m,\n",
      "  room_type = \u001b[31mcol_character()\u001b[39m,\n",
      "  borough = \u001b[33mcol_logical()\u001b[39m,\n",
      "  neighborhood = \u001b[31mcol_character()\u001b[39m,\n",
      "  reviews = \u001b[32mcol_double()\u001b[39m,\n",
      "  overall_satisfaction = \u001b[32mcol_double()\u001b[39m,\n",
      "  accommodates = \u001b[32mcol_double()\u001b[39m,\n",
      "  bedrooms = \u001b[32mcol_double()\u001b[39m,\n",
      "  price = \u001b[32mcol_double()\u001b[39m,\n",
      "  minstay = \u001b[33mcol_logical()\u001b[39m,\n",
      "  latitude = \u001b[32mcol_double()\u001b[39m,\n",
      "  longitude = \u001b[32mcol_double()\u001b[39m,\n",
      "  last_modified = \u001b[34mcol_datetime(format = \"\")\u001b[39m\n",
      ")\n",
      "Parsed with column specification:\n",
      "cols(\n",
      "  room_id = \u001b[32mcol_double()\u001b[39m,\n",
      "  host_id = \u001b[32mcol_double()\u001b[39m,\n",
      "  room_type = \u001b[31mcol_character()\u001b[39m,\n",
      "  borough = \u001b[33mcol_logical()\u001b[39m,\n",
      "  neighborhood = \u001b[31mcol_character()\u001b[39m,\n",
      "  reviews = \u001b[32mcol_double()\u001b[39m,\n",
      "  overall_satisfaction = \u001b[32mcol_double()\u001b[39m,\n",
      "  accommodates = \u001b[32mcol_double()\u001b[39m,\n",
      "  bedrooms = \u001b[32mcol_double()\u001b[39m,\n",
      "  price = \u001b[32mcol_double()\u001b[39m,\n",
      "  minstay = \u001b[33mcol_logical()\u001b[39m,\n",
      "  latitude = \u001b[32mcol_double()\u001b[39m,\n",
      "  longitude = \u001b[32mcol_double()\u001b[39m,\n",
      "  last_modified = \u001b[34mcol_datetime(format = \"\")\u001b[39m\n",
      ")\n",
      "Parsed with column specification:\n",
      "cols(\n",
      "  room_id = \u001b[32mcol_double()\u001b[39m,\n",
      "  host_id = \u001b[32mcol_double()\u001b[39m,\n",
      "  room_type = \u001b[31mcol_character()\u001b[39m,\n",
      "  borough = \u001b[33mcol_logical()\u001b[39m,\n",
      "  neighborhood = \u001b[31mcol_character()\u001b[39m,\n",
      "  reviews = \u001b[32mcol_double()\u001b[39m,\n",
      "  overall_satisfaction = \u001b[32mcol_double()\u001b[39m,\n",
      "  accommodates = \u001b[32mcol_double()\u001b[39m,\n",
      "  bedrooms = \u001b[32mcol_double()\u001b[39m,\n",
      "  price = \u001b[32mcol_double()\u001b[39m,\n",
      "  minstay = \u001b[33mcol_logical()\u001b[39m,\n",
      "  latitude = \u001b[32mcol_double()\u001b[39m,\n",
      "  longitude = \u001b[32mcol_double()\u001b[39m,\n",
      "  last_modified = \u001b[34mcol_datetime(format = \"\")\u001b[39m\n",
      ")\n",
      "Parsed with column specification:\n",
      "cols(\n",
      "  room_id = \u001b[32mcol_double()\u001b[39m,\n",
      "  survey_id = \u001b[32mcol_double()\u001b[39m,\n",
      "  host_id = \u001b[32mcol_double()\u001b[39m,\n",
      "  room_type = \u001b[31mcol_character()\u001b[39m,\n",
      "  country = \u001b[33mcol_logical()\u001b[39m,\n",
      "  city = \u001b[31mcol_character()\u001b[39m,\n",
      "  borough = \u001b[33mcol_logical()\u001b[39m,\n",
      "  neighborhood = \u001b[31mcol_character()\u001b[39m,\n",
      "  reviews = \u001b[32mcol_double()\u001b[39m,\n",
      "  overall_satisfaction = \u001b[32mcol_double()\u001b[39m,\n",
      "  accommodates = \u001b[32mcol_double()\u001b[39m,\n",
      "  bedrooms = \u001b[32mcol_double()\u001b[39m,\n",
      "  bathrooms = \u001b[33mcol_logical()\u001b[39m,\n",
      "  price = \u001b[32mcol_double()\u001b[39m,\n",
      "  minstay = \u001b[33mcol_logical()\u001b[39m,\n",
      "  last_modified = \u001b[34mcol_datetime(format = \"\")\u001b[39m,\n",
      "  latitude = \u001b[32mcol_double()\u001b[39m,\n",
      "  longitude = \u001b[32mcol_double()\u001b[39m,\n",
      "  location = \u001b[31mcol_character()\u001b[39m\n",
      ")\n",
      "Parsed with column specification:\n",
      "cols(\n",
      "  room_id = \u001b[32mcol_double()\u001b[39m,\n",
      "  survey_id = \u001b[32mcol_double()\u001b[39m,\n",
      "  host_id = \u001b[32mcol_double()\u001b[39m,\n",
      "  room_type = \u001b[31mcol_character()\u001b[39m,\n",
      "  country = \u001b[33mcol_logical()\u001b[39m,\n",
      "  city = \u001b[31mcol_character()\u001b[39m,\n",
      "  borough = \u001b[33mcol_logical()\u001b[39m,\n",
      "  neighborhood = \u001b[31mcol_character()\u001b[39m,\n",
      "  reviews = \u001b[32mcol_double()\u001b[39m,\n",
      "  overall_satisfaction = \u001b[33mcol_logical()\u001b[39m,\n",
      "  accommodates = \u001b[32mcol_double()\u001b[39m,\n",
      "  bedrooms = \u001b[32mcol_double()\u001b[39m,\n",
      "  bathrooms = \u001b[33mcol_logical()\u001b[39m,\n",
      "  price = \u001b[32mcol_double()\u001b[39m,\n",
      "  minstay = \u001b[33mcol_logical()\u001b[39m,\n",
      "  last_modified = \u001b[34mcol_datetime(format = \"\")\u001b[39m,\n",
      "  latitude = \u001b[32mcol_double()\u001b[39m,\n",
      "  longitude = \u001b[32mcol_double()\u001b[39m,\n",
      "  location = \u001b[31mcol_character()\u001b[39m\n",
      ")\n",
      "Warning message:\n",
      "“35533 parsing failures.\n",
      "  row                  col           expected actual                                                                                        file\n",
      "27349 overall_satisfaction 1/0/T/F/TRUE/FALSE    5.0 '~/ml-projects/regression-tutorial/paris-listings/tomslee_airbnb_paris_1146_2017-04-25.csv'\n",
      "27350 overall_satisfaction 1/0/T/F/TRUE/FALSE    4.0 '~/ml-projects/regression-tutorial/paris-listings/tomslee_airbnb_paris_1146_2017-04-25.csv'\n",
      "27351 overall_satisfaction 1/0/T/F/TRUE/FALSE    4.0 '~/ml-projects/regression-tutorial/paris-listings/tomslee_airbnb_paris_1146_2017-04-25.csv'\n",
      "27352 overall_satisfaction 1/0/T/F/TRUE/FALSE    4.5 '~/ml-projects/regression-tutorial/paris-listings/tomslee_airbnb_paris_1146_2017-04-25.csv'\n",
      "27353 overall_satisfaction 1/0/T/F/TRUE/FALSE    4.5 '~/ml-projects/regression-tutorial/paris-listings/tomslee_airbnb_paris_1146_2017-04-25.csv'\n",
      "..... .................... .................. ...... ...........................................................................................\n",
      "See problems(...) for more details.\n",
      "”Parsed with column specification:\n",
      "cols(\n",
      "  .default = col_double(),\n",
      "  room_type = \u001b[31mcol_character()\u001b[39m,\n",
      "  country = \u001b[33mcol_logical()\u001b[39m,\n",
      "  city = \u001b[31mcol_character()\u001b[39m,\n",
      "  borough = \u001b[33mcol_logical()\u001b[39m,\n",
      "  neighborhood = \u001b[31mcol_character()\u001b[39m,\n",
      "  bathrooms = \u001b[33mcol_logical()\u001b[39m,\n",
      "  minstay = \u001b[33mcol_logical()\u001b[39m,\n",
      "  name = \u001b[31mcol_character()\u001b[39m,\n",
      "  property_type = \u001b[31mcol_character()\u001b[39m,\n",
      "  last_modified = \u001b[34mcol_datetime(format = \"\")\u001b[39m,\n",
      "  location = \u001b[31mcol_character()\u001b[39m\n",
      ")\n",
      "See spec(...) for full column specifications.\n",
      "Parsed with column specification:\n",
      "cols(\n",
      "  .default = col_double(),\n",
      "  room_type = \u001b[31mcol_character()\u001b[39m,\n",
      "  country = \u001b[33mcol_logical()\u001b[39m,\n",
      "  city = \u001b[31mcol_character()\u001b[39m,\n",
      "  borough = \u001b[33mcol_logical()\u001b[39m,\n",
      "  neighborhood = \u001b[31mcol_character()\u001b[39m,\n",
      "  bathrooms = \u001b[33mcol_logical()\u001b[39m,\n",
      "  minstay = \u001b[33mcol_logical()\u001b[39m,\n",
      "  name = \u001b[31mcol_character()\u001b[39m,\n",
      "  property_type = \u001b[31mcol_character()\u001b[39m,\n",
      "  last_modified = \u001b[34mcol_datetime(format = \"\")\u001b[39m,\n",
      "  location = \u001b[31mcol_character()\u001b[39m\n",
      ")\n",
      "See spec(...) for full column specifications.\n"
     ]
    }
   ],
   "source": [
    "aggregated_paris_listings_df = data.frame()\n",
    "\n",
    "for (csv_file in list.files('paris-listings')) {\n",
    "    \n",
    "    listing_df = read_csv(paste0('~/ml-projects/regression-tutorial/paris-listings/',csv_file))\n",
    "    \n",
    "    aggregated_paris_listings_df = bind_rows(aggregated_paris_listings_df, listing_df)\n",
    "\n",
    "}"
   ]
  },
  {
   "cell_type": "code",
   "execution_count": 3,
   "metadata": {},
   "outputs": [
    {
     "data": {
      "text/html": [
       "837830"
      ],
      "text/latex": [
       "837830"
      ],
      "text/markdown": [
       "837830"
      ],
      "text/plain": [
       "[1] 837830"
      ]
     },
     "metadata": {},
     "output_type": "display_data"
    }
   ],
   "source": [
    "nrow(aggregated_paris_listings_df)"
   ]
  },
  {
   "cell_type": "markdown",
   "metadata": {},
   "source": [
    "# 4. Exploratory Analysis "
   ]
  },
  {
   "cell_type": "code",
   "execution_count": 4,
   "metadata": {},
   "outputs": [
    {
     "data": {
      "text/plain": [
       "    room_id            host_id           room_type         borough       \n",
       " Min.   :    2525   Min.   :     1415   Length:837830      Mode:logical  \n",
       " 1st Qu.: 2642991   1st Qu.:  5519900   Class :character   NA's:837830   \n",
       " Median : 6633710   Median : 14118360   Mode  :character                 \n",
       " Mean   : 7483464   Mean   : 24040348                                    \n",
       " 3rd Qu.:12297745   3rd Qu.: 33546017                                    \n",
       " Max.   :20144084   Max.   :143204619                                    \n",
       "                    NA's   :289                                          \n",
       " neighborhood          reviews       overall_satisfaction  accommodates   \n",
       " Length:837830      Min.   :  0.00   Min.   :0.00         Min.   : 0.000  \n",
       " Class :character   1st Qu.:  0.00   1st Qu.:0.00         1st Qu.: 2.000  \n",
       " Mode  :character   Median :  3.00   Median :4.50         Median : 3.000  \n",
       "                    Mean   : 12.64   Mean   :3.21         Mean   : 3.084  \n",
       "                    3rd Qu.: 13.00   3rd Qu.:5.00         3rd Qu.: 4.000  \n",
       "                    Max.   :529.00   Max.   :5.00         Max.   :16.000  \n",
       "                                     NA's   :188477       NA's   :7739    \n",
       "    bedrooms          price            minstay          latitude    \n",
       " Min.   : 0.000   Min.   :    8.0   Min.   :  1.0    Min.   :48.82  \n",
       " 1st Qu.: 1.000   1st Qu.:   65.0   1st Qu.:  1.0    1st Qu.:48.85  \n",
       " Median : 1.000   Median :   90.0   Median :  2.0    Median :48.86  \n",
       " Mean   : 1.092   Mean   :  117.1   Mean   :  2.9    Mean   :48.86  \n",
       " 3rd Qu.: 1.000   3rd Qu.:  133.0   3rd Qu.:  3.0    3rd Qu.:48.88  \n",
       " Max.   :10.000   Max.   :11323.0   Max.   :695.0    Max.   :48.90  \n",
       " NA's   :2810     NA's   :10        NA's   :516385                  \n",
       "   longitude     last_modified                   survey_id      country       \n",
       " Min.   :2.225   Min.   :2013-11-29 18:14:07   Min.   :1077     Mode:logical  \n",
       " 1st Qu.:2.324   1st Qu.:2016-05-26 21:30:13   1st Qu.:1146     NA's:837830   \n",
       " Median :2.348   Median :2017-01-19 16:20:04   Median :1350                   \n",
       " Mean   :2.345   Mean   :2016-08-26 03:24:40   Mean   :1269                   \n",
       " 3rd Qu.:2.369   3rd Qu.:2017-04-17 02:51:32   3rd Qu.:1478                   \n",
       " Max.   :2.468   Max.   :2017-07-30 15:04:34   Max.   :1478                   \n",
       "                                               NA's   :575132                 \n",
       "     city           bathrooms        location             name          \n",
       " Length:837830      Mode:logical   Length:837830      Length:837830     \n",
       " Class :character   NA's:837830    Class :character   Class :character  \n",
       " Mode  :character                  Mode  :character   Mode  :character  \n",
       "                                                                        \n",
       "                                                                        \n",
       "                                                                        \n",
       "                                                                        \n",
       " property_type     \n",
       " Length:837830     \n",
       " Class :character  \n",
       " Mode  :character  \n",
       "                   \n",
       "                   \n",
       "                   \n",
       "                   "
      ]
     },
     "metadata": {},
     "output_type": "display_data"
    }
   ],
   "source": [
    "summary(aggregated_paris_listings_df)"
   ]
  },
  {
   "cell_type": "code",
   "execution_count": 5,
   "metadata": {},
   "outputs": [],
   "source": [
    "aggregated_paris_listings_df %>%\n",
    "    mutate(room_id = factor(room_id),\n",
    "           host_id = factor(host_id)) %>%\n",
    "    select(-country, -survey_id, -bathrooms, -borough,\n",
    "           -minstay, -location, -last_modified) ->\n",
    "    aggregated_paris_listings_df"
   ]
  },
  {
   "cell_type": "code",
   "execution_count": 6,
   "metadata": {},
   "outputs": [
    {
     "data": {
      "text/html": [
       "<ol class=list-inline>\n",
       "\t<li>'room_id'</li>\n",
       "\t<li>'host_id'</li>\n",
       "\t<li>'room_type'</li>\n",
       "\t<li>'neighborhood'</li>\n",
       "\t<li>'reviews'</li>\n",
       "\t<li>'overall_satisfaction'</li>\n",
       "\t<li>'accommodates'</li>\n",
       "\t<li>'bedrooms'</li>\n",
       "\t<li>'price'</li>\n",
       "\t<li>'latitude'</li>\n",
       "\t<li>'longitude'</li>\n",
       "\t<li>'city'</li>\n",
       "\t<li>'name'</li>\n",
       "\t<li>'property_type'</li>\n",
       "</ol>\n"
      ],
      "text/latex": [
       "\\begin{enumerate*}\n",
       "\\item 'room\\_id'\n",
       "\\item 'host\\_id'\n",
       "\\item 'room\\_type'\n",
       "\\item 'neighborhood'\n",
       "\\item 'reviews'\n",
       "\\item 'overall\\_satisfaction'\n",
       "\\item 'accommodates'\n",
       "\\item 'bedrooms'\n",
       "\\item 'price'\n",
       "\\item 'latitude'\n",
       "\\item 'longitude'\n",
       "\\item 'city'\n",
       "\\item 'name'\n",
       "\\item 'property\\_type'\n",
       "\\end{enumerate*}\n"
      ],
      "text/markdown": [
       "1. 'room_id'\n",
       "2. 'host_id'\n",
       "3. 'room_type'\n",
       "4. 'neighborhood'\n",
       "5. 'reviews'\n",
       "6. 'overall_satisfaction'\n",
       "7. 'accommodates'\n",
       "8. 'bedrooms'\n",
       "9. 'price'\n",
       "10. 'latitude'\n",
       "11. 'longitude'\n",
       "12. 'city'\n",
       "13. 'name'\n",
       "14. 'property_type'\n",
       "\n",
       "\n"
      ],
      "text/plain": [
       " [1] \"room_id\"              \"host_id\"              \"room_type\"           \n",
       " [4] \"neighborhood\"         \"reviews\"              \"overall_satisfaction\"\n",
       " [7] \"accommodates\"         \"bedrooms\"             \"price\"               \n",
       "[10] \"latitude\"             \"longitude\"            \"city\"                \n",
       "[13] \"name\"                 \"property_type\"       "
      ]
     },
     "metadata": {},
     "output_type": "display_data"
    }
   ],
   "source": [
    "names(aggregated_paris_listings_df)"
   ]
  },
  {
   "cell_type": "code",
   "execution_count": 7,
   "metadata": {},
   "outputs": [],
   "source": [
    "aggregated_paris_listings_df %>%\n",
    "    mutate(overall_satisfaction = replace(overall_satisfaction, overall_satisfaction == 0, NA)) ->\n",
    "    aggregated_paris_listings_df"
   ]
  },
  {
   "cell_type": "markdown",
   "metadata": {},
   "source": [
    "# 5. Hypothesis testing"
   ]
  },
  {
   "cell_type": "markdown",
   "metadata": {},
   "source": [
    "### 5.1. Mean of price is different beween smallest and largest neighborhoods, i.e., larger the neighborhood, higher the price"
   ]
  },
  {
   "cell_type": "code",
   "execution_count": null,
   "metadata": {},
   "outputs": [],
   "source": [
    "print(unique(aggregated_paris_listings_df$neighborhood))"
   ]
  },
  {
   "cell_type": "code",
   "execution_count": null,
   "metadata": {},
   "outputs": [],
   "source": [
    "aggregated_paris_listings_df %>%\n",
    "    filter(neighborhood == \"Champs-Elysées\" | neighborhood == \"Sorbonne\") %>%\n",
    "    group_by(neighborhood) %>% \n",
    "    summarize(n_obs = n(),\n",
    "              mean_price = mean(price),\n",
    "              sd_price = sd(price),\n",
    "              median_price = median(price))"
   ]
  },
  {
   "cell_type": "code",
   "execution_count": null,
   "metadata": {},
   "outputs": [],
   "source": [
    "paris_subset_df = filter(aggregated_paris_listings_df, neighborhood == \"Champs-Elysées\" | neighborhood == \"Sorbonne\")"
   ]
  },
  {
   "cell_type": "code",
   "execution_count": null,
   "metadata": {},
   "outputs": [],
   "source": [
    "nrow(paris_subset_df)"
   ]
  },
  {
   "cell_type": "code",
   "execution_count": null,
   "metadata": {},
   "outputs": [],
   "source": [
    "t.test(price ~ neighborhood, \n",
    "       data =  paris_subset_df, \n",
    "       var.equal = FALSE)"
   ]
  },
  {
   "cell_type": "markdown",
   "metadata": {},
   "source": [
    "The null hypothesis was that the mean price of Champs Elysees is the same as the mean price of Sorbonne, and this was rejected"
   ]
  },
  {
   "cell_type": "markdown",
   "metadata": {},
   "source": [
    "### 5.2. Mean prices differ by apartments of different room types"
   ]
  },
  {
   "cell_type": "code",
   "execution_count": null,
   "metadata": {},
   "outputs": [],
   "source": [
    "unique(aggregated_paris_listings_df$room_type)"
   ]
  },
  {
   "cell_type": "code",
   "execution_count": null,
   "metadata": {},
   "outputs": [],
   "source": [
    "aggregated_paris_listings_df %>%\n",
    "    group_by(room_type) %>%\n",
    "    summarize(n_samples = n(),\n",
    "              mean_price = mean(price),\n",
    "              sd_price = sd(price),\n",
    "              median_price = median(price))"
   ]
  },
  {
   "cell_type": "code",
   "execution_count": null,
   "metadata": {},
   "outputs": [],
   "source": [
    "aggregated_paris_listings_df %>%\n",
    "    filter(!is.na(room_type)) %>% \n",
    "    group_by(room_type) %>%\n",
    "    summarize(n_samples = n(),\n",
    "              mean_price = mean(price),\n",
    "              sd_price = sd(price),\n",
    "              median_price = median(price))"
   ]
  },
  {
   "cell_type": "markdown",
   "metadata": {},
   "source": [
    "It seems that shared rooms are priced lower than private rooms which are priced lower than entire homes. However, many more entire homes are available compared to private and shared rooms. \n",
    "\n",
    "If price is the dependent variable, a cursory glance at whether it resembles a normal distribution is required."
   ]
  },
  {
   "cell_type": "code",
   "execution_count": null,
   "metadata": {},
   "outputs": [],
   "source": [
    "ggplot(filter(aggregated_paris_listings_df, !is.na(room_type))) +\n",
    "    facet_wrap(~ room_type, ncol = 1) + \n",
    "    geom_histogram(aes(x = price))"
   ]
  },
  {
   "cell_type": "markdown",
   "metadata": {},
   "source": [
    "There is an evident right skew on price. This normality can be formally tested."
   ]
  },
  {
   "cell_type": "code",
   "execution_count": null,
   "metadata": {},
   "outputs": [],
   "source": [
    "for (room_type_str in unique(filter(aggregated_paris_listings_df, !is.na(room_type))$room_type)) {\n",
    "    \n",
    "    cat(\"Testing normality of price for\", room_type_str)\n",
    "    \n",
    "    aggregated_paris_listings_df %>%\n",
    "    filter(room_type == room_type_str) %>%\n",
    "    pull(price) %>%\n",
    "    nortest::ad.test() %>%\n",
    "    print()\n",
    "\n",
    "}"
   ]
  },
  {
   "cell_type": "markdown",
   "metadata": {},
   "source": [
    "Evidently, the normlity assumption is invalid"
   ]
  },
  {
   "cell_type": "code",
   "execution_count": null,
   "metadata": {},
   "outputs": [],
   "source": [
    "ggplot(filter(aggregated_paris_listings_df, !is.na(room_type))) +\n",
    "    facet_wrap(~ room_type, ncol = 1) + \n",
    "    geom_histogram(aes(x = log(price)))"
   ]
  },
  {
   "cell_type": "markdown",
   "metadata": {},
   "source": [
    "Log transform improves the situation. Next we wish to see if the groups have equal variance"
   ]
  },
  {
   "cell_type": "code",
   "execution_count": null,
   "metadata": {},
   "outputs": [],
   "source": [
    "model_price_room_type = lm(price ~ room_type, \n",
    "                           data = filter(aggregated_paris_listings_df, !is.na(room_type)))"
   ]
  },
  {
   "cell_type": "code",
   "execution_count": null,
   "metadata": {},
   "outputs": [],
   "source": [
    "type3anova::type3anova(model_price_room_type)"
   ]
  },
  {
   "cell_type": "markdown",
   "metadata": {},
   "source": [
    "This ANOVA indicates that price of rooms is different across room types"
   ]
  },
  {
   "cell_type": "code",
   "execution_count": null,
   "metadata": {},
   "outputs": [],
   "source": [
    "TukeyHSD(aov(price ~ room_type, \n",
    "             data = filter(aggregated_paris_listings_df, !is.na(room_type))))"
   ]
  },
  {
   "cell_type": "markdown",
   "metadata": {},
   "source": [
    "This indicates that prices across all the three room types is different"
   ]
  },
  {
   "cell_type": "markdown",
   "metadata": {},
   "source": [
    "### 5.3. Price is driven by the overall satisfaction derived"
   ]
  },
  {
   "cell_type": "code",
   "execution_count": null,
   "metadata": {},
   "outputs": [],
   "source": [
    "ggplot(filter(aggregated_paris_listings_df, !is.na(room_type)),\n",
    "       aes(x = overall_satisfaction, y = log(price))) +\n",
    "    geom_jitter(alpha = 1/10) +\n",
    "    stat_summary(fun.y = mean,\n",
    "                 color = 'steelblue',\n",
    "                 geom = 'point',\n",
    "                 size = 4) +\n",
    "    stat_smooth(method = 'lm', se = FALSE) # add in the regression line"
   ]
  },
  {
   "cell_type": "code",
   "execution_count": null,
   "metadata": {},
   "outputs": [],
   "source": [
    "model_price_satisfaction = lm(price ~ overall_satisfaction,\n",
    "                              data = filter(aggregated_paris_listings_df, !is.na(room_type)))"
   ]
  },
  {
   "cell_type": "code",
   "execution_count": null,
   "metadata": {},
   "outputs": [],
   "source": [
    "summary(model_price_satisfaction)"
   ]
  },
  {
   "cell_type": "markdown",
   "metadata": {},
   "source": [
    "Very low R squared indicates that overall satisfaction does not explain the variation in price. We will need to look for other predictors"
   ]
  },
  {
   "cell_type": "markdown",
   "metadata": {},
   "source": [
    "### 5.4. What drives prices of properties?"
   ]
  },
  {
   "cell_type": "code",
   "execution_count": null,
   "metadata": {},
   "outputs": [],
   "source": [
    "aggregated_paris_listings_df = filter(aggregated_paris_listings_df, !is.na(room_type))"
   ]
  },
  {
   "cell_type": "code",
   "execution_count": null,
   "metadata": {},
   "outputs": [],
   "source": [
    "aggregated_paris_listings_df %>%\n",
    "    select(price, overall_satisfaction, reviews, accommodates) %>%\n",
    "    drop_na() %>%\n",
    "    summary()"
   ]
  },
  {
   "cell_type": "code",
   "execution_count": null,
   "metadata": {},
   "outputs": [],
   "source": [
    "aggregated_paris_listings_df %>%\n",
    "    select(price, overall_satisfaction, reviews, accommodates) %>%\n",
    "    drop_na() %>%\n",
    "    cor()"
   ]
  },
  {
   "cell_type": "markdown",
   "metadata": {},
   "source": [
    "These seem to be nice features"
   ]
  },
  {
   "cell_type": "code",
   "execution_count": null,
   "metadata": {},
   "outputs": [],
   "source": [
    "lm(price ~ overall_satisfaction + reviews + accommodates,\n",
    "   data = aggregated_paris_listings_df) %>%\n",
    "\n",
    "    summary()"
   ]
  },
  {
   "cell_type": "code",
   "execution_count": null,
   "metadata": {},
   "outputs": [],
   "source": [
    "lm(log(price) ~ overall_satisfaction + reviews + accommodates,\n",
    "   data = aggregated_paris_listings_df) %>%\n",
    "    \n",
    "    summary()"
   ]
  },
  {
   "cell_type": "code",
   "execution_count": null,
   "metadata": {},
   "outputs": [],
   "source": [
    "lm(log(price) ~ overall_satisfaction * reviews,\n",
    "   data = aggregated_paris_listings_df) %>% \n",
    "    \n",
    "    summary()"
   ]
  },
  {
   "cell_type": "code",
   "execution_count": null,
   "metadata": {},
   "outputs": [],
   "source": [
    "lm(log(price) ~ overall_satisfaction * reviews + accommodates,\n",
    "   data = aggregated_paris_listings_df) %>% \n",
    "    \n",
    "    summary()"
   ]
  },
  {
   "cell_type": "code",
   "execution_count": null,
   "metadata": {},
   "outputs": [],
   "source": [
    "lm(log(price) ~ overall_satisfaction * reviews * accommodates,\n",
    "   data = aggregated_paris_listings_df) %>% \n",
    "    \n",
    "    summary()"
   ]
  },
  {
   "cell_type": "code",
   "execution_count": null,
   "metadata": {},
   "outputs": [],
   "source": [
    "aggregated_paris_listings_df %>%\n",
    "    filter(!is.na(overall_satisfaction)) %>%\n",
    "    summarize(q1 = quantile(reviews, 0.33),\n",
    "              q2 = quantile(reviews, 0.66),\n",
    "              max = max(reviews))"
   ]
  },
  {
   "cell_type": "code",
   "execution_count": null,
   "metadata": {},
   "outputs": [],
   "source": [
    "aggregated_paris_listings_df %>%\n",
    "    filter(!is.na(overall_satisfaction)) %>%\n",
    "    mutate(review_group = case_when(reviews <= quantile(reviews, 0.33) ~ 'low',\n",
    "                                    reviews <= quantile(reviews, 0.66) ~ 'medium',\n",
    "                                    TRUE ~ 'high'),\n",
    "          review_group = factor(review_group, levels = c(\"low\",\"medium\",\"high\"))) ->\n",
    "    aggregated_paris_reviews_df"
   ]
  },
  {
   "cell_type": "code",
   "execution_count": null,
   "metadata": {},
   "outputs": [],
   "source": [
    "aggregated_paris_reviews_df %>%\n",
    "    group_by(review_group) %>%\n",
    "    summarize(min = min(reviews),\n",
    "              max = max(reviews))"
   ]
  },
  {
   "cell_type": "code",
   "execution_count": null,
   "metadata": {},
   "outputs": [],
   "source": [
    "ggplot(aggregated_paris_reviews_df,\n",
    "       aes(x = overall_satisfaction, y = log(price))) + \n",
    "    facet_wrap(~ review_group) +\n",
    "    geom_jitter(color = 'lightgrey', alpha = 1/10) +\n",
    "    stat_smooth(method = \"lm\", se= FALSE)"
   ]
  },
  {
   "cell_type": "markdown",
   "metadata": {},
   "source": [
    "### 5.4. Number of best places to stay varies by neighborhood"
   ]
  },
  {
   "cell_type": "code",
   "execution_count": 15,
   "metadata": {},
   "outputs": [],
   "source": [
    "aggregated_paris_listings_df %>%\n",
    "    mutate(gem = (overall_satisfaction == 5) & (reviews >=30),\n",
    "           gem = factor(gem, labels = c('no gem', 'gem'))) %>%\n",
    "    filter(!is.na(gem)) ->\n",
    "aggregated_paris_listings_df"
   ]
  },
  {
   "cell_type": "code",
   "execution_count": 16,
   "metadata": {},
   "outputs": [
    {
     "data": {
      "text/html": [
       "<table>\n",
       "<caption>A tibble: 4 × 3</caption>\n",
       "<thead>\n",
       "\t<tr><th scope=col>neighborhood</th><th scope=col>gem</th><th scope=col>n_samples</th></tr>\n",
       "\t<tr><th scope=col>&lt;chr&gt;</th><th scope=col>&lt;fct&gt;</th><th scope=col>&lt;int&gt;</th></tr>\n",
       "</thead>\n",
       "<tbody>\n",
       "\t<tr><td>Champs-Elysées</td><td>no gem</td><td>3516</td></tr>\n",
       "\t<tr><td>Champs-Elysées</td><td>gem   </td><td> 227</td></tr>\n",
       "\t<tr><td>Sorbonne      </td><td>no gem</td><td>7127</td></tr>\n",
       "\t<tr><td>Sorbonne      </td><td>gem   </td><td> 449</td></tr>\n",
       "</tbody>\n",
       "</table>\n"
      ],
      "text/latex": [
       "A tibble: 4 × 3\n",
       "\\begin{tabular}{r|lll}\n",
       " neighborhood & gem & n\\_samples\\\\\n",
       " <chr> & <fct> & <int>\\\\\n",
       "\\hline\n",
       "\t Champs-Elysées & no gem & 3516\\\\\n",
       "\t Champs-Elysées & gem    &  227\\\\\n",
       "\t Sorbonne       & no gem & 7127\\\\\n",
       "\t Sorbonne       & gem    &  449\\\\\n",
       "\\end{tabular}\n"
      ],
      "text/markdown": [
       "\n",
       "A tibble: 4 × 3\n",
       "\n",
       "| neighborhood &lt;chr&gt; | gem &lt;fct&gt; | n_samples &lt;int&gt; |\n",
       "|---|---|---|\n",
       "| Champs-Elysées | no gem | 3516 |\n",
       "| Champs-Elysées | gem    |  227 |\n",
       "| Sorbonne       | no gem | 7127 |\n",
       "| Sorbonne       | gem    |  449 |\n",
       "\n"
      ],
      "text/plain": [
       "  neighborhood   gem    n_samples\n",
       "1 Champs-Elysées no gem 3516     \n",
       "2 Champs-Elysées gem     227     \n",
       "3 Sorbonne       no gem 7127     \n",
       "4 Sorbonne       gem     449     "
      ]
     },
     "metadata": {},
     "output_type": "display_data"
    }
   ],
   "source": [
    "aggregated_paris_listings_df %>%\n",
    "    filter(neighborhood == \"Champs-Elysées\" | neighborhood == \"Sorbonne\") %>%\n",
    "    group_by(neighborhood, gem) %>%\n",
    "    summarize(n_samples = n())"
   ]
  },
  {
   "cell_type": "markdown",
   "metadata": {},
   "source": [
    "We need to build a cross-tab for these two cities to test if gems are really more in Sorbone"
   ]
  },
  {
   "cell_type": "code",
   "execution_count": 18,
   "metadata": {},
   "outputs": [],
   "source": [
    "aggregated_paris_listings_df %>%\n",
    "    filter(neighborhood == \"Champs-Elysées\" | neighborhood == \"Sorbonne\", !is.na(gem)) ->\n",
    "    subset_paris_listings_df\n",
    "\n",
    "cross_tab_cities = table(subset_paris_listings_df$neighborhood,\n",
    "                         subset_paris_listings_df$gem)"
   ]
  },
  {
   "cell_type": "code",
   "execution_count": 19,
   "metadata": {},
   "outputs": [
    {
     "data": {
      "text/plain": [
       "                \n",
       "                     no gem        gem\n",
       "  Champs-Elysées 0.31062815 0.02005478\n",
       "  Sorbonne       0.62964926 0.03966782"
      ]
     },
     "metadata": {},
     "output_type": "display_data"
    }
   ],
   "source": [
    "prop.table(cross_tab_cities)"
   ]
  },
  {
   "cell_type": "code",
   "execution_count": 20,
   "metadata": {},
   "outputs": [
    {
     "data": {
      "text/plain": [
       "\n",
       "\tPearson's Chi-squared test with Yates' continuity correction\n",
       "\n",
       "data:  cross_tab_cities\n",
       "X-squared = 0.062209, df = 1, p-value = 0.803\n"
      ]
     },
     "metadata": {},
     "output_type": "display_data"
    }
   ],
   "source": [
    "chisq.test(cross_tab_cities)"
   ]
  },
  {
   "cell_type": "markdown",
   "metadata": {},
   "source": [
    "We cannot reject the null that the number of gems is no different between Sorbonne and Champs-Elysees!"
   ]
  },
  {
   "cell_type": "markdown",
   "metadata": {},
   "source": [
    "### 5.5. Predicting number of best places"
   ]
  },
  {
   "cell_type": "code",
   "execution_count": 23,
   "metadata": {},
   "outputs": [],
   "source": [
    "model_logit = glm(gem ~ price * room_type,\n",
    "                  data = aggregated_paris_listings_df,\n",
    "                  family = \"binomial\")"
   ]
  },
  {
   "cell_type": "code",
   "execution_count": 24,
   "metadata": {},
   "outputs": [
    {
     "data": {
      "text/plain": [
       "\n",
       "Call:\n",
       "glm(formula = gem ~ price * room_type, family = \"binomial\", data = aggregated_paris_listings_df)\n",
       "\n",
       "Deviance Residuals: \n",
       "    Min       1Q   Median       3Q      Max  \n",
       "-2.3107  -0.2702  -0.2652  -0.2630   2.7850  \n",
       "\n",
       "Coefficients:\n",
       "                              Estimate Std. Error  z value Pr(>|z|)    \n",
       "(Intercept)                 -3.383e+00  7.865e-03 -430.174   <2e-16 ***\n",
       "price                        5.282e-04  3.438e-05   15.364   <2e-16 ***\n",
       "room_typePrivate room        2.689e-01  2.337e-02   11.505   <2e-16 ***\n",
       "room_typeShared room        -2.240e-02  1.544e-01   -0.145    0.885    \n",
       "price:room_typePrivate room -3.606e-04  2.267e-04   -1.591    0.112    \n",
       "price:room_typeShared room  -4.749e-03  3.116e-03   -1.524    0.128    \n",
       "---\n",
       "Signif. codes:  0 ‘***’ 0.001 ‘**’ 0.01 ‘*’ 0.05 ‘.’ 0.1 ‘ ’ 1\n",
       "\n",
       "(Dispersion parameter for binomial family taken to be 1)\n",
       "\n",
       "    Null deviance: 256701  on 829168  degrees of freedom\n",
       "Residual deviance: 256285  on 829163  degrees of freedom\n",
       "  (301 observations deleted due to missingness)\n",
       "AIC: 256297\n",
       "\n",
       "Number of Fisher Scoring iterations: 6\n"
      ]
     },
     "metadata": {},
     "output_type": "display_data"
    }
   ],
   "source": [
    "summary(model_logit)"
   ]
  },
  {
   "cell_type": "code",
   "execution_count": 29,
   "metadata": {},
   "outputs": [],
   "source": [
    "aggregated_paris_listings_df %>%\n",
    "    mutate(gem_pred_logit = predict(model_logit, aggregated_paris_listings_df),\n",
    "           gem_odds = exp(gem_pred_logit),\n",
    "           gem_prob_pred = gem_odds/(1+gem_odds),\n",
    "           gem_pred = case_when(gem_prob_pred <= 0.5 ~ 'no gem',\n",
    "                                gem_prob_pred > 0.5 ~ 'gem')) ->\n",
    "    aggregated_paris_listings_df"
   ]
  },
  {
   "cell_type": "code",
   "execution_count": 31,
   "metadata": {},
   "outputs": [
    {
     "data": {
      "text/plain": [
       "        \n",
       "            gem no gem\n",
       "  no gem     25 799350\n",
       "  gem         0  29794"
      ]
     },
     "metadata": {},
     "output_type": "display_data"
    }
   ],
   "source": [
    "table(aggregated_paris_listings_df$gem, aggregated_paris_listings_df$gem_pred)"
   ]
  },
  {
   "cell_type": "code",
   "execution_count": 32,
   "metadata": {},
   "outputs": [
    {
     "name": "stdout",
     "output_type": "stream",
     "text": [
      "Model Accuracy:  0.9640375"
     ]
    }
   ],
   "source": [
    "cat(\"Model Accuracy: \", (799350)/(799350+25+29794))"
   ]
  }
 ],
 "metadata": {
  "kernelspec": {
   "display_name": "R",
   "language": "R",
   "name": "ir"
  },
  "language_info": {
   "codemirror_mode": "r",
   "file_extension": ".r",
   "mimetype": "text/x-r-source",
   "name": "R",
   "pygments_lexer": "r",
   "version": "3.6.1"
  }
 },
 "nbformat": 4,
 "nbformat_minor": 2
}
