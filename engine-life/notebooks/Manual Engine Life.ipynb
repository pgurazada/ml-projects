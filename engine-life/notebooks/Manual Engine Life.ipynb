{
 "cells": [
  {
   "cell_type": "markdown",
   "metadata": {},
   "source": [
    "# Predicting Remaining Useful Life with Manual Feature Engineering\n",
    "\n",
    "In this notebook, we will work with NASA provided data to accomplish a critical real-world task: predict the remaining useful life of an engine. Our first attempt will be to tackle this problem by hand, building features based on aggregations, domain knowledge (if applicable), and time-series based methods. The original data can be downloaded [here.](https://ti.arc.nasa.gov/tech/dash/groups/pcoe/prognostic-data-repository/#turbofan)"
   ]
  },
  {
   "cell_type": "markdown",
   "metadata": {},
   "source": [
    "## Roadmap \n",
    "\n",
    "Following will be our approach to this problem:\n",
    "\n",
    "1. Specify the prediction problem\n",
    "    * For each engine, define the cutoff point and label\n",
    "2. Subset data to before cutoff point for each engine\n",
    "3. Establish a baseline performance measure\n",
    "4. Perform basic aggregations for each engine to develop features\n",
    "    * Use feature selection to reduce the number of features\n",
    "5. Evaluate performance of features \n",
    "    * In cross validation on the training data \n",
    "    * On the testing data\n",
    "6. Try more sophisticated feature engineering\n",
    "    * Time-series analysis\n",
    "    * KMeans clustering\n",
    "7. Evaluate performance of new features\n",
    "    * Use feature selection\n",
    "8. Perform random search to tune the random forest model\n",
    "\n",
    "This problem is a good basic introduction to time-series prediction. Even though we have all the data for all the engines, when we make features, we have to limit ourselves to data from before the cutoff time in order to ensure our model trains on valid data."
   ]
  },
  {
   "cell_type": "code",
   "execution_count": 5,
   "metadata": {},
   "outputs": [],
   "source": [
    "import pandas as pd\n",
    "import numpy as np\n",
    "\n",
    "from tqdm import tqdm\n",
    "from utils import plot_feature_importances, feature_selection"
   ]
  },
  {
   "cell_type": "code",
   "execution_count": 4,
   "metadata": {},
   "outputs": [],
   "source": [
    "np.random.seed(20130810)"
   ]
  },
  {
   "cell_type": "markdown",
   "metadata": {},
   "source": [
    "First we need to read in the data and set the correct columns headers as specified in the data documentation."
   ]
  },
  {
   "cell_type": "code",
   "execution_count": 2,
   "metadata": {},
   "outputs": [
    {
     "data": {
      "text/html": [
       "<div>\n",
       "<style scoped>\n",
       "    .dataframe tbody tr th:only-of-type {\n",
       "        vertical-align: middle;\n",
       "    }\n",
       "\n",
       "    .dataframe tbody tr th {\n",
       "        vertical-align: top;\n",
       "    }\n",
       "\n",
       "    .dataframe thead th {\n",
       "        text-align: right;\n",
       "    }\n",
       "</style>\n",
       "<table border=\"1\" class=\"dataframe\">\n",
       "  <thead>\n",
       "    <tr style=\"text-align: right;\">\n",
       "      <th></th>\n",
       "      <th>engine_no</th>\n",
       "      <th>time_in_cycles</th>\n",
       "      <th>operational_setting_1</th>\n",
       "      <th>operational_setting_2</th>\n",
       "      <th>operational_setting_3</th>\n",
       "      <th>sensor_measurement_1</th>\n",
       "      <th>sensor_measurement_2</th>\n",
       "      <th>sensor_measurement_3</th>\n",
       "      <th>sensor_measurement_4</th>\n",
       "      <th>sensor_measurement_5</th>\n",
       "      <th>...</th>\n",
       "      <th>sensor_measurement_17</th>\n",
       "      <th>sensor_measurement_18</th>\n",
       "      <th>sensor_measurement_19</th>\n",
       "      <th>sensor_measurement_20</th>\n",
       "      <th>sensor_measurement_21</th>\n",
       "      <th>sensor_measurement_22</th>\n",
       "      <th>sensor_measurement_23</th>\n",
       "      <th>sensor_measurement_24</th>\n",
       "      <th>sensor_measurement_25</th>\n",
       "      <th>sensor_measurement_26</th>\n",
       "    </tr>\n",
       "  </thead>\n",
       "  <tbody>\n",
       "    <tr>\n",
       "      <th>0</th>\n",
       "      <td>1</td>\n",
       "      <td>1</td>\n",
       "      <td>34.9983</td>\n",
       "      <td>0.8400</td>\n",
       "      <td>100.0</td>\n",
       "      <td>449.44</td>\n",
       "      <td>555.32</td>\n",
       "      <td>1358.61</td>\n",
       "      <td>1137.23</td>\n",
       "      <td>5.48</td>\n",
       "      <td>...</td>\n",
       "      <td>334</td>\n",
       "      <td>2223</td>\n",
       "      <td>100.00</td>\n",
       "      <td>14.73</td>\n",
       "      <td>8.8071</td>\n",
       "      <td>NaN</td>\n",
       "      <td>NaN</td>\n",
       "      <td>NaN</td>\n",
       "      <td>NaN</td>\n",
       "      <td>NaN</td>\n",
       "    </tr>\n",
       "    <tr>\n",
       "      <th>1</th>\n",
       "      <td>1</td>\n",
       "      <td>2</td>\n",
       "      <td>41.9982</td>\n",
       "      <td>0.8408</td>\n",
       "      <td>100.0</td>\n",
       "      <td>445.00</td>\n",
       "      <td>549.90</td>\n",
       "      <td>1353.22</td>\n",
       "      <td>1125.78</td>\n",
       "      <td>3.91</td>\n",
       "      <td>...</td>\n",
       "      <td>330</td>\n",
       "      <td>2212</td>\n",
       "      <td>100.00</td>\n",
       "      <td>10.41</td>\n",
       "      <td>6.2665</td>\n",
       "      <td>NaN</td>\n",
       "      <td>NaN</td>\n",
       "      <td>NaN</td>\n",
       "      <td>NaN</td>\n",
       "      <td>NaN</td>\n",
       "    </tr>\n",
       "    <tr>\n",
       "      <th>2</th>\n",
       "      <td>1</td>\n",
       "      <td>3</td>\n",
       "      <td>24.9988</td>\n",
       "      <td>0.6218</td>\n",
       "      <td>60.0</td>\n",
       "      <td>462.54</td>\n",
       "      <td>537.31</td>\n",
       "      <td>1256.76</td>\n",
       "      <td>1047.45</td>\n",
       "      <td>7.05</td>\n",
       "      <td>...</td>\n",
       "      <td>309</td>\n",
       "      <td>1915</td>\n",
       "      <td>84.93</td>\n",
       "      <td>14.08</td>\n",
       "      <td>8.6723</td>\n",
       "      <td>NaN</td>\n",
       "      <td>NaN</td>\n",
       "      <td>NaN</td>\n",
       "      <td>NaN</td>\n",
       "      <td>NaN</td>\n",
       "    </tr>\n",
       "    <tr>\n",
       "      <th>3</th>\n",
       "      <td>1</td>\n",
       "      <td>4</td>\n",
       "      <td>42.0077</td>\n",
       "      <td>0.8416</td>\n",
       "      <td>100.0</td>\n",
       "      <td>445.00</td>\n",
       "      <td>549.51</td>\n",
       "      <td>1354.03</td>\n",
       "      <td>1126.38</td>\n",
       "      <td>3.91</td>\n",
       "      <td>...</td>\n",
       "      <td>329</td>\n",
       "      <td>2212</td>\n",
       "      <td>100.00</td>\n",
       "      <td>10.59</td>\n",
       "      <td>6.4701</td>\n",
       "      <td>NaN</td>\n",
       "      <td>NaN</td>\n",
       "      <td>NaN</td>\n",
       "      <td>NaN</td>\n",
       "      <td>NaN</td>\n",
       "    </tr>\n",
       "    <tr>\n",
       "      <th>4</th>\n",
       "      <td>1</td>\n",
       "      <td>5</td>\n",
       "      <td>25.0005</td>\n",
       "      <td>0.6203</td>\n",
       "      <td>60.0</td>\n",
       "      <td>462.54</td>\n",
       "      <td>537.07</td>\n",
       "      <td>1257.71</td>\n",
       "      <td>1047.93</td>\n",
       "      <td>7.05</td>\n",
       "      <td>...</td>\n",
       "      <td>309</td>\n",
       "      <td>1915</td>\n",
       "      <td>84.93</td>\n",
       "      <td>14.13</td>\n",
       "      <td>8.5286</td>\n",
       "      <td>NaN</td>\n",
       "      <td>NaN</td>\n",
       "      <td>NaN</td>\n",
       "      <td>NaN</td>\n",
       "      <td>NaN</td>\n",
       "    </tr>\n",
       "  </tbody>\n",
       "</table>\n",
       "<p>5 rows × 31 columns</p>\n",
       "</div>"
      ],
      "text/plain": [
       "   engine_no  time_in_cycles  operational_setting_1  operational_setting_2  \\\n",
       "0          1               1                34.9983                 0.8400   \n",
       "1          1               2                41.9982                 0.8408   \n",
       "2          1               3                24.9988                 0.6218   \n",
       "3          1               4                42.0077                 0.8416   \n",
       "4          1               5                25.0005                 0.6203   \n",
       "\n",
       "   operational_setting_3  sensor_measurement_1  sensor_measurement_2  \\\n",
       "0                  100.0                449.44                555.32   \n",
       "1                  100.0                445.00                549.90   \n",
       "2                   60.0                462.54                537.31   \n",
       "3                  100.0                445.00                549.51   \n",
       "4                   60.0                462.54                537.07   \n",
       "\n",
       "   sensor_measurement_3  sensor_measurement_4  sensor_measurement_5  \\\n",
       "0               1358.61               1137.23                  5.48   \n",
       "1               1353.22               1125.78                  3.91   \n",
       "2               1256.76               1047.45                  7.05   \n",
       "3               1354.03               1126.38                  3.91   \n",
       "4               1257.71               1047.93                  7.05   \n",
       "\n",
       "           ...            sensor_measurement_17  sensor_measurement_18  \\\n",
       "0          ...                              334                   2223   \n",
       "1          ...                              330                   2212   \n",
       "2          ...                              309                   1915   \n",
       "3          ...                              329                   2212   \n",
       "4          ...                              309                   1915   \n",
       "\n",
       "   sensor_measurement_19  sensor_measurement_20  sensor_measurement_21  \\\n",
       "0                 100.00                  14.73                 8.8071   \n",
       "1                 100.00                  10.41                 6.2665   \n",
       "2                  84.93                  14.08                 8.6723   \n",
       "3                 100.00                  10.59                 6.4701   \n",
       "4                  84.93                  14.13                 8.5286   \n",
       "\n",
       "   sensor_measurement_22  sensor_measurement_23  sensor_measurement_24  \\\n",
       "0                    NaN                    NaN                    NaN   \n",
       "1                    NaN                    NaN                    NaN   \n",
       "2                    NaN                    NaN                    NaN   \n",
       "3                    NaN                    NaN                    NaN   \n",
       "4                    NaN                    NaN                    NaN   \n",
       "\n",
       "   sensor_measurement_25  sensor_measurement_26  \n",
       "0                    NaN                    NaN  \n",
       "1                    NaN                    NaN  \n",
       "2                    NaN                    NaN  \n",
       "3                    NaN                    NaN  \n",
       "4                    NaN                    NaN  \n",
       "\n",
       "[5 rows x 31 columns]"
      ]
     },
     "execution_count": 2,
     "metadata": {},
     "output_type": "execute_result"
    }
   ],
   "source": [
    "operational_settings = ['operational_setting_{}'.format(i + 1) for i in range (3)]\n",
    "sensor_columns = ['sensor_measurement_{}'.format(i + 1) for i in range(26)]\n",
    "cols = ['engine_no', 'time_in_cycles'] + operational_settings + sensor_columns\n",
    "data = pd.read_csv('../input/train_FD002.txt', sep=' ', header=-1, names=cols)\n",
    "data.head()"
   ]
  },
  {
   "cell_type": "code",
   "execution_count": 9,
   "metadata": {},
   "outputs": [
    {
     "data": {
      "text/plain": [
       "array([  1,   2,   3,   4,   5,   6,   7,   8,   9,  10,  11,  12,  13,\n",
       "        14,  15,  16,  17,  18,  19,  20,  21,  22,  23,  24,  25,  26,\n",
       "        27,  28,  29,  30,  31,  32,  33,  34,  35,  36,  37,  38,  39,\n",
       "        40,  41,  42,  43,  44,  45,  46,  47,  48,  49,  50,  51,  52,\n",
       "        53,  54,  55,  56,  57,  58,  59,  60,  61,  62,  63,  64,  65,\n",
       "        66,  67,  68,  69,  70,  71,  72,  73,  74,  75,  76,  77,  78,\n",
       "        79,  80,  81,  82,  83,  84,  85,  86,  87,  88,  89,  90,  91,\n",
       "        92,  93,  94,  95,  96,  97,  98,  99, 100, 101, 102, 103, 104,\n",
       "       105, 106, 107, 108, 109, 110, 111, 112, 113, 114, 115, 116, 117,\n",
       "       118, 119, 120, 121, 122, 123, 124, 125, 126, 127, 128, 129, 130,\n",
       "       131, 132, 133, 134, 135, 136, 137, 138, 139, 140, 141, 142, 143,\n",
       "       144, 145, 146, 147, 148, 149, 150, 151, 152, 153, 154, 155, 156,\n",
       "       157, 158, 159, 160, 161, 162, 163, 164, 165, 166, 167, 168, 169,\n",
       "       170, 171, 172, 173, 174, 175, 176, 177, 178, 179, 180, 181, 182,\n",
       "       183, 184, 185, 186, 187, 188, 189, 190, 191, 192, 193, 194, 195,\n",
       "       196, 197, 198, 199, 200, 201, 202, 203, 204, 205, 206, 207, 208,\n",
       "       209, 210, 211, 212, 213, 214, 215, 216, 217, 218, 219, 220, 221,\n",
       "       222, 223, 224, 225, 226, 227, 228, 229, 230, 231, 232, 233, 234,\n",
       "       235, 236, 237, 238, 239, 240, 241, 242, 243, 244, 245, 246, 247,\n",
       "       248, 249, 250, 251, 252, 253, 254, 255, 256, 257, 258, 259, 260])"
      ]
     },
     "execution_count": 9,
     "metadata": {},
     "output_type": "execute_result"
    }
   ],
   "source": [
    "np.unique(data['engine_no'])"
   ]
  },
  {
   "cell_type": "markdown",
   "metadata": {},
   "source": [
    "There are 3 operational settings and 26 sensor measurements. Ahead of time, we have no idea which of these are relevant!"
   ]
  },
  {
   "cell_type": "markdown",
   "metadata": {},
   "source": [
    "# Prediction Problem\n",
    "\n",
    "The training data initially has no prediction problem: we are given the entire operational history of the engine with the final entry representing the last successful measurement before failure. Therefore, we have to come up with our own prediction problem which we do as follows:"
   ]
  },
  {
   "cell_type": "markdown",
   "metadata": {},
   "source": [
    "1. Select an arbitrary starting date: January 1, 2010\n",
    "2. Create a time column using the `time_in_cycles` and the knowledge that one cycle takes 10 minutes\n",
    "3. For each engine, select a random time to use as the cutoff point\n",
    "4. Find the number of cycles between the cutoff point and the end of life of the engine, this becomes the label\n",
    "5. Subset the data for each engine to only the times before the prediction point. "
   ]
  },
  {
   "cell_type": "markdown",
   "metadata": {},
   "source": [
    "At the end of this process, we will have a labeled training set where each row is one engine and the label is the number of cycles to failure from that point (the `prediction_point` also called the `cutoff_time`) in time. We can then use the past operating data from before the prediction point and the labels to train a machine learning model. "
   ]
  },
  {
   "cell_type": "code",
   "execution_count": 3,
   "metadata": {},
   "outputs": [
    {
     "data": {
      "text/html": [
       "<div>\n",
       "<style scoped>\n",
       "    .dataframe tbody tr th:only-of-type {\n",
       "        vertical-align: middle;\n",
       "    }\n",
       "\n",
       "    .dataframe tbody tr th {\n",
       "        vertical-align: top;\n",
       "    }\n",
       "\n",
       "    .dataframe thead th {\n",
       "        text-align: right;\n",
       "    }\n",
       "</style>\n",
       "<table border=\"1\" class=\"dataframe\">\n",
       "  <thead>\n",
       "    <tr style=\"text-align: right;\">\n",
       "      <th></th>\n",
       "      <th>engine_no</th>\n",
       "      <th>time_in_cycles</th>\n",
       "      <th>time</th>\n",
       "    </tr>\n",
       "  </thead>\n",
       "  <tbody>\n",
       "    <tr>\n",
       "      <th>0</th>\n",
       "      <td>1</td>\n",
       "      <td>1</td>\n",
       "      <td>2010-01-01 00:10:00</td>\n",
       "    </tr>\n",
       "    <tr>\n",
       "      <th>1</th>\n",
       "      <td>1</td>\n",
       "      <td>2</td>\n",
       "      <td>2010-01-01 00:20:00</td>\n",
       "    </tr>\n",
       "    <tr>\n",
       "      <th>2</th>\n",
       "      <td>1</td>\n",
       "      <td>3</td>\n",
       "      <td>2010-01-01 00:30:00</td>\n",
       "    </tr>\n",
       "    <tr>\n",
       "      <th>3</th>\n",
       "      <td>1</td>\n",
       "      <td>4</td>\n",
       "      <td>2010-01-01 00:40:00</td>\n",
       "    </tr>\n",
       "    <tr>\n",
       "      <th>4</th>\n",
       "      <td>1</td>\n",
       "      <td>5</td>\n",
       "      <td>2010-01-01 00:50:00</td>\n",
       "    </tr>\n",
       "  </tbody>\n",
       "</table>\n",
       "</div>"
      ],
      "text/plain": [
       "   engine_no  time_in_cycles                time\n",
       "0          1               1 2010-01-01 00:10:00\n",
       "1          1               2 2010-01-01 00:20:00\n",
       "2          1               3 2010-01-01 00:30:00\n",
       "3          1               4 2010-01-01 00:40:00\n",
       "4          1               5 2010-01-01 00:50:00"
      ]
     },
     "execution_count": 3,
     "metadata": {},
     "output_type": "execute_result"
    }
   ],
   "source": [
    "# Pick a starting date (this can be arbitrary)\n",
    "starting_date = pd.Timestamp(2010, 1, 1)\n",
    "\n",
    "# Create a time column using the time in cycles * 10 minutes per cycle\n",
    "data['time'] = [starting_date + pd.Timedelta(x * 10, 'm') for x in data['time_in_cycles']]\n",
    "\n",
    "data[['engine_no', 'time_in_cycles', 'time']].head()"
   ]
  },
  {
   "cell_type": "markdown",
   "metadata": {},
   "source": [
    "Now, for each engine, we need to pick a random time to serve as the prediction point. We will impose the limits that we need to have at least 10 measurements before the prediction point."
   ]
  },
  {
   "cell_type": "code",
   "execution_count": 7,
   "metadata": {},
   "outputs": [
    {
     "name": "stderr",
     "output_type": "stream",
     "text": [
      "100%|██████████| 260/260 [00:01<00:00, 208.92it/s]\n"
     ]
    }
   ],
   "source": [
    "# Dataframe to hold results\n",
    "engines = pd.DataFrame(columns = ['engine_no', 'prediction_point', 'label'])\n",
    "engine_list = data['engine_no'].unique()\n",
    "\n",
    "# Iterate through each engine\n",
    "for engine in tqdm(engine_list):\n",
    "    \n",
    "    # Subset to the engine\n",
    "    subset = data[data['engine_no'] == engine].copy().sort_values('time')\n",
    "    \n",
    "    measurements = subset.shape[0]\n",
    "    \n",
    "    # Select a random index for the prediction point\n",
    "    random_index = np.random.randint(10, measurements - 1)\n",
    "    \n",
    "    # Record the predictino point and the label which is the remaining number of cycles\n",
    "    prediction_point = subset.iloc[random_index, :].copy()['time']\n",
    "    label = measurements - random_index\n",
    "    \n",
    "    # Record the measurements\n",
    "    engines = engines.append(pd.DataFrame({'engine_no': engine, 'prediction_point': prediction_point, \n",
    "                                           'label': label}, index = [0]), \n",
    "                             ignore_index = True, sort = True)"
   ]
  },
  {
   "cell_type": "code",
   "execution_count": null,
   "metadata": {},
   "outputs": [],
   "source": [
    "# Save prediction problem \n",
    "engines.to_csv('../input/engines_4.csv', index = False)\n",
    "engines.head()"
   ]
  },
  {
   "cell_type": "markdown",
   "metadata": {},
   "source": [
    "# Limit Data to before prediction point\n",
    "\n",
    "For each engine, we can only use data from before the `prediction_point` to predict when the engine will fail. We need to subset the `data` table for each engine until only times before the `prediction_point`. In Featuretools, the prediction point is called the `cutoff_time`."
   ]
  },
  {
   "cell_type": "code",
   "execution_count": null,
   "metadata": {},
   "outputs": [],
   "source": [
    "legal_data = pd.DataFrame(columns = data.columns)\n",
    "\n",
    "for i, engine in engines.iterrows():\n",
    "    # Subset to times before the prediction point\n",
    "    legal_data_subset = data[(data['time'] < engine['prediction_point']) & (data['engine_no'] == engine['engine_no'])].copy()\n",
    "    \n",
    "    legal_data = legal_data.append(legal_data_subset, ignore_index = True, sort = True)"
   ]
  },
  {
   "cell_type": "code",
   "execution_count": null,
   "metadata": {},
   "outputs": [],
   "source": [
    "train_obs = legal_data.copy()\n",
    "train_obs.to_csv('../input/train_obs.csv', index = False)\n",
    "train_obs.head()"
   ]
  },
  {
   "cell_type": "markdown",
   "metadata": {},
   "source": [
    "## Metric and Baseline \n",
    "\n",
    "Before we go any further, it's important to establish the metric we will use to judge how well our model does and a baseline measure of performance. For this regression problem, we'll use the [__Mean Absolute Percentage Error__ (MAPE)](https://en.wikipedia.org/wiki/Mean_absolute_percentage_error),  a common metric that is easy to calculate and interpretable. This is the average of the absolute value of (prediction - true value) / true value) and is expressed as a percentage. \n",
    "\n",
    "For the naive baseline, we can use two methods:\n",
    "\n",
    "1. Guess the average value of the label in the training data for all instances on the testing set. This will be called `average_guess`.\n",
    "2. For each engine in the testing data, predict it has reached half its life at the end of the data and will continue to operate for however many cycles it has already operated. This will be called `half_life_guess`.\n",
    "\n",
    "First we need to read in the testing data which is the same format as the training data."
   ]
  },
  {
   "cell_type": "code",
   "execution_count": null,
   "metadata": {},
   "outputs": [],
   "source": [
    "test_obs = pd.read_csv('../input/test_FD002.txt', sep=' ', header=-1, names=cols)\n",
    "\n",
    "# Pick a starting date (this can be arbitrary)\n",
    "starting_date = pd.Timestamp(2010, 1, 1)\n",
    "\n",
    "# Create a time column using the time in cycles * 10 minutes per cycle\n",
    "test_obs['time'] = [starting_date + pd.Timedelta(x * 10, 'm') for x in test_obs['time_in_cycles']]\n",
    "\n",
    "test_obs.to_csv('../input/test_obs.csv', index = False)\n",
    "test_obs.head()"
   ]
  },
  {
   "cell_type": "code",
   "execution_count": null,
   "metadata": {},
   "outputs": [],
   "source": [
    "# Half life guess\n",
    "train_half_life_guess = train_obs.groupby('engine_no').apply(lambda x: 2 * x.shape[0])\n",
    "\n",
    "# Dataframe with both baselines\n",
    "train_baseline = pd.DataFrame({'engine_no': train_obs['engine_no'].unique(), \n",
    "                               'half_life_guess': train_half_life_guess.values,\n",
    "                               'average_guess': engines['label'].mean()})"
   ]
  },
  {
   "cell_type": "code",
   "execution_count": null,
   "metadata": {},
   "outputs": [],
   "source": [
    "# Make two baseline guesses\n",
    "test_half_life_guess = test_obs.groupby('engine_no').apply(lambda x: 2 * x.shape[0])\n",
    "test_baseline = pd.DataFrame({'engine_no': test_obs['engine_no'].unique(), \n",
    "                              'half_life_guess': test_half_life_guess.values,\n",
    "                               'average_guess': engines['label'].mean()})"
   ]
  },
  {
   "cell_type": "markdown",
   "metadata": {},
   "source": [
    "The labels for the testing data are in a separate file that we can read in."
   ]
  },
  {
   "cell_type": "code",
   "execution_count": null,
   "metadata": {},
   "outputs": [],
   "source": [
    "test_y = pd.read_csv('../input/RUL_FD002.txt', sep=' ', header=-1, names=['label'], index_col=False)"
   ]
  },
  {
   "cell_type": "markdown",
   "metadata": {},
   "source": [
    "We'll write a basic function to calculate the mean absolute percentage error and then apply it to the two baselines."
   ]
  },
  {
   "cell_type": "code",
   "execution_count": null,
   "metadata": {},
   "outputs": [],
   "source": [
    "def mape(y_true, pred):\n",
    "    mape = 100 * np.mean(abs(y_true - pred) / y_true)\n",
    "    \n",
    "    return mape"
   ]
  },
  {
   "cell_type": "code",
   "execution_count": null,
   "metadata": {},
   "outputs": [],
   "source": [
    "print('The average_guess train MAPE is: {:.2f}.'.format(mape(engines['label'], train_baseline['average_guess'])))\n",
    "print(\"The average_guess  test MAPE is: {:.2f}.\".format(mape(test_y['label'], test_baseline['average_guess'])))"
   ]
  },
  {
   "cell_type": "code",
   "execution_count": null,
   "metadata": {},
   "outputs": [],
   "source": [
    "print('The half_life train MAPE is: {:.2f}.'.format(mape(engines['label'], train_baseline['half_life_guess'])))\n",
    "print('The half_life  test MAPE is: {:.2f}.'.format(mape(test_y['label'], test_baseline['half_life_guess'])))"
   ]
  },
  {
   "cell_type": "markdown",
   "metadata": {},
   "source": [
    "These baselines give us a target for our machine learning models. If our model cannot beat even a naive baseline, then maybe we want to rethink the machine learnign approach!"
   ]
  },
  {
   "cell_type": "markdown",
   "metadata": {},
   "source": [
    "# Approach to Feature Engineering\n",
    "\n",
    "The `train_obs` is now a child table of `engines` because for each unique engine (identified by the `engine_no`), there are multiple rows in the `train_obs`. Our final train dataframe will need to have one unique row for every engine, with the features in the columns, so feature engineering will involve aggregating the `train_obs` for every engine. The same operations that are done to `train_obs` will have to be applied to `test_obs` as well because we need to have the same columns in both the training and testing set."
   ]
  },
  {
   "cell_type": "code",
   "execution_count": null,
   "metadata": {},
   "outputs": [],
   "source": [
    "train_obs = train_obs.drop(columns = 'time')\n",
    "train_obs.shape "
   ]
  },
  {
   "cell_type": "markdown",
   "metadata": {},
   "source": [
    "## Aggregations\n",
    "\n",
    "As a simple first step, we can perform numerical aggregations of every column in `train_obs` table. If we have no idea what the columns represent, this is a good place to start because it will provide a thorough summary of every column."
   ]
  },
  {
   "cell_type": "code",
   "execution_count": null,
   "metadata": {},
   "outputs": [],
   "source": [
    "# First deal with some annoying type issues\n",
    "train_obs['sensor_measurement_17'] = train_obs['sensor_measurement_17'].astype(np.float32)\n",
    "train_obs['sensor_measurement_18'] = train_obs['sensor_measurement_18'].astype(np.float32)\n",
    "train_obs['time_in_cycles'] = train_obs['time_in_cycles'].astype(np.int32)\n",
    "\n",
    "# Aggregate each column\n",
    "train_agg = train_obs.groupby('engine_no').agg(['min', 'max', 'mean', 'sum', 'std'])\n",
    "train_agg.head()"
   ]
  },
  {
   "cell_type": "markdown",
   "metadata": {},
   "source": [
    "In order to better keep track of the columns, we can rename them using a for loop with the original column and then the statistic."
   ]
  },
  {
   "cell_type": "code",
   "execution_count": null,
   "metadata": {},
   "outputs": [],
   "source": [
    "new_cols = []\n",
    "\n",
    "# Iterate through the columns and create new names\n",
    "for col in train_agg.columns.levels[0]:\n",
    "    for stat in train_agg.columns.levels[1]:\n",
    "        new_cols.append(f'{col}-{stat}')\n",
    "        \n",
    "train_agg.columns = new_cols\n",
    "train_agg.head()"
   ]
  },
  {
   "cell_type": "markdown",
   "metadata": {},
   "source": [
    "That fairly simple operation gave us 150 features that we can use as a main training dataframe. \n",
    "\n",
    "### Assess Performance\n",
    "\n",
    "Let's assess the performance of just these features in a model. We need to make sure to apply the same operations to the testing data."
   ]
  },
  {
   "cell_type": "code",
   "execution_count": null,
   "metadata": {},
   "outputs": [],
   "source": [
    "# Apply same operations to testing data\n",
    "test_agg = test_obs.groupby('engine_no').agg(['min', 'max', 'mean', 'sum', 'std'])\n",
    "\n",
    "new_cols = []\n",
    "\n",
    "for col in test_agg.columns.levels[0]:\n",
    "    for stat in test_agg.columns.levels[1]:\n",
    "        new_cols.append(f'{col}-{stat}')\n",
    "        \n",
    "test_agg.columns = new_cols\n",
    "test_agg.head()"
   ]
  },
  {
   "cell_type": "markdown",
   "metadata": {},
   "source": [
    "## Modeling\n",
    "\n",
    "For our model, we'll use the capable [Random Forest algorithm](http://scikit-learn.org/stable/modules/generated/sklearn.ensemble.RandomForestRegressor.html) as implemented in Scikit-Learn. We'll assess performance by MAPE using 5-fold cross validation on the training data and on the testing data.\n",
    "\n",
    "We can also calculate the feature importances from the Random Forest to see if these give us any insight into the problem."
   ]
  },
  {
   "cell_type": "code",
   "execution_count": null,
   "metadata": {},
   "outputs": [],
   "source": [
    "from sklearn.ensemble import RandomForestRegressor\n",
    "from sklearn.preprocessing import Imputer\n",
    "from sklearn.model_selection import cross_val_score\n",
    "from sklearn.metrics import make_scorer\n",
    "\n",
    "mape_scorer = make_scorer(mape, greater_is_better = False)\n",
    "\n",
    "def evaluate(train, train_labels, test, test_labels):\n",
    "    \"\"\"Evaluate a training dataset in cross validation and on the test data\"\"\"\n",
    "    \n",
    "    # Use the same model for each training set for now\n",
    "    model = RandomForestRegressor(n_estimators = 100, \n",
    "                                  random_state = 50, n_jobs = -1)\n",
    "    \n",
    "    train = train.replace({np.inf: np.nan})\n",
    "    test = test.replace({np.inf: np.nan})\n",
    "    \n",
    "    feature_names = list(train.columns)\n",
    "    \n",
    "    # Impute the missing values\n",
    "    imputer = Imputer(strategy = 'median', axis = 1)\n",
    "    train = imputer.fit_transform(train)\n",
    "    test = imputer.transform(test)\n",
    "    \n",
    "    # Fit on the training data and make predictions\n",
    "    model.fit(train, train_labels)\n",
    "    preds = model.predict(test)\n",
    "    \n",
    "    cv_score = -1 * cross_val_score(model, train, train_labels, \n",
    "                                    scoring = mape_scorer, cv = 5)\n",
    "    \n",
    "    # Calculate the performance\n",
    "    mape_score = mape(test_labels, preds)\n",
    "    print('5-fold CV MAPE: {:.2f} with std: {:.2f}'.format(cv_score.mean(), cv_score.std()))\n",
    "    print('Test MAPE: {:.2f}.'.format(mape_score))\n",
    "    \n",
    "    # Record feature importances\n",
    "    feature_importances = pd.DataFrame({'feature': feature_names, \n",
    "                                        'importance': model.feature_importances_})\n",
    "    \n",
    "    return preds, feature_importances"
   ]
  },
  {
   "cell_type": "code",
   "execution_count": null,
   "metadata": {},
   "outputs": [],
   "source": [
    "# Remove the engine number since it should not be predictive\n",
    "train = train_agg.reset_index(drop = True)\n",
    "test = test_agg.reset_index(drop = True)\n",
    "\n",
    "train_labels = engines['label']\n",
    "test_labels = test_y['label']\n",
    "\n",
    "preds, fi = evaluate(train, train_labels, test, test_labels)"
   ]
  },
  {
   "cell_type": "markdown",
   "metadata": {},
   "source": [
    "Our initial try did not even better than the baseline on the testing data! We're probably severaly overfitting to the training data given the much lower cross validation error than testing error. To get a sense of what might be wrong, we can plot the predictions."
   ]
  },
  {
   "cell_type": "code",
   "execution_count": null,
   "metadata": {},
   "outputs": [],
   "source": [
    "import matplotlib.pyplot as plt\n",
    "\n",
    "plt.style.use('fivethirtyeight')\n",
    "\n",
    "plt.hist(preds, bins = 20, color = 'blue', edgecolor = 'k')\n",
    "plt.title('Prediction Distribution'); plt.xlabel('Remaining Life (cycles)');"
   ]
  },
  {
   "cell_type": "markdown",
   "metadata": {},
   "source": [
    "We can also plot the 10 most important features to see what the model thinks are the most relevant features we made."
   ]
  },
  {
   "cell_type": "code",
   "execution_count": null,
   "metadata": {},
   "outputs": [],
   "source": [
    "norm_fi = plot_feature_importances(fi, 10)\n",
    "norm_fi.head(10)"
   ]
  },
  {
   "cell_type": "markdown",
   "metadata": {},
   "source": [
    "It seems the model was not able to learn, predicting nearly the same value for all engines. One possible issue is the presence of too many irrelevant features."
   ]
  },
  {
   "cell_type": "markdown",
   "metadata": {},
   "source": [
    "## Feature Selection\n",
    "\n",
    "Feature selection is nearly as important as feature engineering because irrelevant features can slow down model training, lead to poorer performance on the test set, and result in less model interpretability. Below, we apply four methods of feature selection (see the `utils.py` file and the `feature_selection` function for details) to the dataset and then re-evaluate. Feature selection here is composed of:\n",
    "\n",
    "1. Remove columns with more than 90% missing values\n",
    "2. Remove columns with only a single unique value\n",
    "3. Remove one of each pair of columns with a correlation greater than 0.95.\n",
    "\n",
    "Removing some of the features can help the model generalize to the testing data."
   ]
  },
  {
   "cell_type": "code",
   "execution_count": null,
   "metadata": {},
   "outputs": [],
   "source": [
    "train_fs = feature_selection(train)\n",
    "test_fs = test[train_fs.columns]"
   ]
  },
  {
   "cell_type": "code",
   "execution_count": null,
   "metadata": {},
   "outputs": [],
   "source": [
    "preds, fi = evaluate(train_fs, train_labels, test_fs, test_labels)"
   ]
  },
  {
   "cell_type": "markdown",
   "metadata": {},
   "source": [
    "The performance increases significantly! Our model is now significantly better than the baseline in both cross validation and on the training data. This highlights the importance of proper feature selection. "
   ]
  },
  {
   "cell_type": "code",
   "execution_count": null,
   "metadata": {},
   "outputs": [],
   "source": [
    "plt.hist(preds, bins = 20, color = 'blue', edgecolor = 'k')\n",
    "plt.title('Prediction Distribution'); plt.xlabel('Remaining Life (cycles)');"
   ]
  },
  {
   "cell_type": "code",
   "execution_count": null,
   "metadata": {},
   "outputs": [],
   "source": [
    "norm_fi = plot_feature_importances(fi, 10)\n",
    "norm_fi.head()"
   ]
  },
  {
   "cell_type": "markdown",
   "metadata": {},
   "source": [
    "The most important features now make more sense: _the total previous cycles of the engine is the second greatest predictor of how much longer the engine will last_. We also can see that the first operational setting is important as well as sensors 11 and 15. These can give us clues as to what to focus on when monitoring future engines.\n",
    "\n",
    "__Through feature selection, we went from a model that was no better than a naive guess, to a model that reduced the error of the guess by more than 75%!__"
   ]
  },
  {
   "cell_type": "code",
   "execution_count": null,
   "metadata": {},
   "outputs": [],
   "source": [
    "train_fs.head()"
   ]
  },
  {
   "cell_type": "code",
   "execution_count": null,
   "metadata": {},
   "outputs": [],
   "source": [
    "train_fs['time_in_cycles-max'] = list(train_agg['time_in_cycles-max'])\n",
    "train_fs.to_csv('../input/simple_manual_features.csv')"
   ]
  },
  {
   "cell_type": "markdown",
   "metadata": {},
   "source": [
    "## More Advanced Feature Engineering\n",
    "\n",
    "To try and build a better model, we can apply more advanced feature engineering techniques. Since our data is in a time-series, we can apply any time-series operation to each engine. For example, we can find the percentage change and the cumulative sum for each engine."
   ]
  },
  {
   "cell_type": "code",
   "execution_count": null,
   "metadata": {},
   "outputs": [],
   "source": [
    "train_obs = train_obs.sort_values(['engine_no', 'time_in_cycles'])\n",
    "train_obs.head()"
   ]
  },
  {
   "cell_type": "code",
   "execution_count": null,
   "metadata": {},
   "outputs": [],
   "source": [
    "train_exp = train_obs.copy()\n",
    "\n",
    "# Find percentage change and cumulative sum for each engine\n",
    "for col in train_obs:\n",
    "    train_exp[f'{col}_pct_change'] = train_obs.groupby('engine_no')[col].apply(lambda x: x.pct_change())\n",
    "    train_exp[f'{col}_cum_sum'] = train_obs.groupby('engine_no')[col].apply(lambda x: np.cumsum(x))\n",
    "    \n",
    "train_exp.head()"
   ]
  },
  {
   "cell_type": "markdown",
   "metadata": {},
   "source": [
    "Since this just created new columns of observations, we can take this data and aggregate it to get a single dataframe for testing with one row for each engine. The function below carries out the aggregations and renaming of columns."
   ]
  },
  {
   "cell_type": "code",
   "execution_count": null,
   "metadata": {},
   "outputs": [],
   "source": [
    "def agg_and_rename(df, agg_variable):\n",
    "    \"\"\"Function to aggregate a dataframe\"\"\"\n",
    "    \n",
    "    df_agg = df.groupby(agg_variable).agg(['min', 'max', 'mean', 'sum', 'std'])\n",
    "\n",
    "    new_cols = []\n",
    "\n",
    "    # Create a rename set of columns\n",
    "    for col in df_agg.columns.levels[0]:\n",
    "        for stat in df_agg.columns.levels[1]:\n",
    "            new_cols.append(f'{col}-{stat}')\n",
    "\n",
    "    df_agg.columns = new_cols\n",
    "    \n",
    "    return df_agg"
   ]
  },
  {
   "cell_type": "code",
   "execution_count": null,
   "metadata": {},
   "outputs": [],
   "source": [
    "train_exp_agg = agg_and_rename(train_exp, 'engine_no')\n",
    "train_exp_agg.head()"
   ]
  },
  {
   "cell_type": "markdown",
   "metadata": {},
   "source": [
    "Now we apply the same operation to the testing data, do feature selection on the training data, subset the testing data to the same columns as the training data, and evaluate!"
   ]
  },
  {
   "cell_type": "code",
   "execution_count": null,
   "metadata": {},
   "outputs": [],
   "source": [
    "test_obs.drop(columns = 'time', inplace = True)\n",
    "test_exp = test_obs.copy()\n",
    "\n",
    "# Apply operations to testing data\n",
    "for col in test_obs:\n",
    "    test_exp[f'{col}_pct_change'] = test_obs.groupby('engine_no')[col].apply(lambda x: x.pct_change())\n",
    "    test_exp[f'{col}_cum_sum'] = test_obs.groupby('engine_no')[col].apply(lambda x: np.cumsum(x))\n",
    "\n",
    "test_exp_agg = agg_and_rename(test_exp, 'engine_no')"
   ]
  },
  {
   "cell_type": "code",
   "execution_count": null,
   "metadata": {},
   "outputs": [],
   "source": [
    "# Feature selection and subsetting of test data\n",
    "train_exp_agg_fs = feature_selection(train_exp_agg, 90, 0.95)\n",
    "test_exp_agg_fs = test_exp_agg[train_exp_agg_fs.columns]"
   ]
  },
  {
   "cell_type": "code",
   "execution_count": null,
   "metadata": {},
   "outputs": [],
   "source": [
    "preds, fi = evaluate(train_exp_agg_fs, train_labels, test_exp_agg_fs, test_labels)"
   ]
  },
  {
   "cell_type": "markdown",
   "metadata": {},
   "source": [
    "It appears we may have reached the limits of what we can do with feature engineering given that we added more features and yet the performance did not increase. It's possible we are approaching [Bayes error](https://en.wikipedia.org/wiki/Bayes_error_rate), which is the lowest possible error its possible to get on a problem. This is a function of noise in the data and latent (hidden) variables that we cannot measure. The problem with Bayes error is we can never know when we have reached that point, because it would require a model that we know for sure achieves that error rate."
   ]
  },
  {
   "cell_type": "code",
   "execution_count": null,
   "metadata": {},
   "outputs": [],
   "source": [
    "norm_fi = plot_feature_importances(fi, 10)\n",
    "norm_fi.head()"
   ]
  },
  {
   "cell_type": "markdown",
   "metadata": {},
   "source": [
    "The model has about the same performance even with the added features. We can see some of the percentage change features we added as among the most important features. \n",
    "\n",
    "## KMeans clustering and Time-Series Analysis\n",
    "\n",
    "We can try one more manual feature engineering effort using clustering and time-series analysis methods. This time, we will not use the `pct_change` and `cum_sum` because these features did not improve the model. The basic outline is:\n",
    "\n",
    "* Clustering: First we will cluster the observations into 10 unique clusters. We can then perform numerical aggregations on these clusters to get the information into our training dataframe. \n",
    "* Time-series analysis: Using the `tsfresh` package, we can apply a number of functions such as `number_peaks` and `cid_ce`. "
   ]
  },
  {
   "cell_type": "code",
   "execution_count": null,
   "metadata": {},
   "outputs": [],
   "source": [
    "from sklearn.cluster import KMeans"
   ]
  },
  {
   "cell_type": "code",
   "execution_count": null,
   "metadata": {},
   "outputs": [],
   "source": [
    "kmeans = KMeans(n_clusters = 10)\n",
    "\n",
    "# Need to impute the missing values\n",
    "imputer = Imputer(strategy='median')\n",
    "train_cluster = imputer.fit_transform(train_obs.drop(columns = ['engine_no', 'time_in_cycles']))\n",
    "\n",
    "# Create a new column with the cluster label\n",
    "train_obs['cluster'] = kmeans.fit_predict(train_cluster)"
   ]
  },
  {
   "cell_type": "markdown",
   "metadata": {},
   "source": [
    "Next we apply the same procedure to the testing data (but just `transform` since we can only `fit` to training data)."
   ]
  },
  {
   "cell_type": "markdown",
   "metadata": {},
   "source": [
    "The new column contains the cluster assigned to each observation. This will still require aggregating since it is on a per-observation level instead of for each engine."
   ]
  },
  {
   "cell_type": "code",
   "execution_count": null,
   "metadata": {},
   "outputs": [],
   "source": [
    "test_cluster = imputer.transform(test_obs.drop(columns = ['engine_no', 'time_in_cycles']))\n",
    "test_obs['cluster'] = kmeans.predict(test_cluster)"
   ]
  },
  {
   "cell_type": "markdown",
   "metadata": {},
   "source": [
    "### Visualize Clusters\n",
    " \n",
    "We can try to visualize the clusters by applying a [UMAP embedding](https://github.com/lmcinnes/umap) to the data. This reduces the dimension of data primarily for visualization."
   ]
  },
  {
   "cell_type": "code",
   "execution_count": null,
   "metadata": {},
   "outputs": [],
   "source": [
    "import umap\n",
    "\n",
    "reducer = umap.UMAP(n_components = 3)\n",
    "train_embedding = reducer.fit_transform(train_cluster)"
   ]
  },
  {
   "cell_type": "code",
   "execution_count": null,
   "metadata": {},
   "outputs": [],
   "source": [
    "from mpl_toolkits.mplot3d import Axes3D\n",
    "\n",
    "fig = plt.figure(figsize = (10, 8))\n",
    "ax = fig.add_subplot(111, projection='3d')\n",
    "\n",
    "cmap = plt.get_cmap('tab10', 10)\n",
    "p = ax.scatter(train_embedding[:, 0], train_embedding[:, 1], train_embedding[:, 2], \n",
    "               c = train_obs['cluster'], cmap = cmap)\n",
    "plt.title('UMAP Embedding Showing KMeans Cluster Assignments')\n",
    "fig.colorbar(p);"
   ]
  },
  {
   "cell_type": "markdown",
   "metadata": {},
   "source": [
    "The UMAP embedding shows the clusters pretty clearly separate the observations, so perhaps they can be useful. Through clustering, we're hoping that observations that have the same cluster encode similar information which can then be used to predict how much longer an engine will run. \n",
    "\n",
    "To get one observation per engine, we again have to aggregate by the `engine_no`. This time we will have five extra columns with the aggregations of the cluster assignments. "
   ]
  },
  {
   "cell_type": "code",
   "execution_count": null,
   "metadata": {},
   "outputs": [],
   "source": [
    "train_agg = agg_and_rename(train_obs, 'engine_no')\n",
    "train_agg.head()"
   ]
  },
  {
   "cell_type": "code",
   "execution_count": null,
   "metadata": {},
   "outputs": [],
   "source": [
    "test_agg = agg_and_rename(test_obs, 'engine_no')"
   ]
  },
  {
   "cell_type": "markdown",
   "metadata": {},
   "source": [
    "### Time Series Operations using tsfresh\n",
    "\n",
    "For the time series operations, we have any number of choices we can make from `tsfresh`. Each of these operations is applied to a single time-series and generates one number. Therefore, to apply them, we group by the the `engine_no` and then apply the operation to get a single observation per engine. We will choose five different operations:\n",
    "\n",
    "1. `cid_ce`: measures the complexity of a time series\n",
    "2. `number_peaks`: measures the number of peaks where a peak is bigger than `n` neighbors to the right and left\n",
    "3. `last_location_of_maximum`: locates the last occurrence of the maximum value in the time series\n",
    "4. `skewness`: the Fisher-Pearson skewness of the time series\n",
    "5. `sample_entropy`: the sample entropy of the time series\n",
    "\n",
    "All of these will be calculated for each operational setting and each sensor measurement giving us 5 new columns for each of the 29 original features (145 total features)."
   ]
  },
  {
   "cell_type": "code",
   "execution_count": null,
   "metadata": {},
   "outputs": [],
   "source": [
    "from tsfresh.feature_extraction.feature_calculators import (cid_ce, number_peaks, \n",
    "                                                             last_location_of_maximum, \n",
    "                                                             skewness, sample_entropy)"
   ]
  },
  {
   "cell_type": "markdown",
   "metadata": {},
   "source": [
    "To avoid the issue of passing multiple functions to `agg` with the same name `lambda`, we have to create lambda functions and then give them custom names. `cid_ce` and `number_peaks` both have required arguments but the other functions only need a time-series."
   ]
  },
  {
   "cell_type": "code",
   "execution_count": null,
   "metadata": {},
   "outputs": [],
   "source": [
    "cid_ce_func = lambda x: cid_ce(x, normalize=False)\n",
    "cid_ce_func.__name__ = 'cid_ce'\n",
    "\n",
    "n_peaks = lambda x: number_peaks(x, n = 5)\n",
    "n_peaks.__name__ = 'number_peaks'\n",
    "\n",
    "# Apply the five operations\n",
    "ts_values = train_obs.drop(columns = ['time_in_cycles']).groupby('engine_no').agg([cid_ce_func, n_peaks, \n",
    "                                                                                   last_location_of_maximum,\n",
    "                                                                                   skewness, sample_entropy])\n",
    "ts_values.head()"
   ]
  },
  {
   "cell_type": "markdown",
   "metadata": {},
   "source": [
    "Below we rename the columns."
   ]
  },
  {
   "cell_type": "code",
   "execution_count": null,
   "metadata": {},
   "outputs": [],
   "source": [
    "new_cols = []\n",
    "\n",
    "# Iterate through columns\n",
    "for col in ts_values.columns.levels[0]:\n",
    "    for stat in ts_values.columns.levels[1]:\n",
    "        new_cols.append(f'{col}-{stat}')"
   ]
  },
  {
   "cell_type": "code",
   "execution_count": null,
   "metadata": {},
   "outputs": [],
   "source": [
    "ts_values.columns = new_cols"
   ]
  },
  {
   "cell_type": "markdown",
   "metadata": {},
   "source": [
    "This dataframe can then be joined to the training data because there is one observation for each engine."
   ]
  },
  {
   "cell_type": "code",
   "execution_count": null,
   "metadata": {},
   "outputs": [],
   "source": [
    "train_obs['engine_no'] = train_obs['engine_no'].astype(np.int32)"
   ]
  },
  {
   "cell_type": "code",
   "execution_count": null,
   "metadata": {},
   "outputs": [],
   "source": [
    "train_agg = train_agg.merge(ts_values, on = 'engine_no', how = 'outer')\n",
    "train_agg.head()"
   ]
  },
  {
   "cell_type": "markdown",
   "metadata": {},
   "source": [
    "We're up to 305 features (before feature selection). Now, we apply the same operations to the testing data."
   ]
  },
  {
   "cell_type": "code",
   "execution_count": null,
   "metadata": {},
   "outputs": [],
   "source": [
    "# Apply the five operations\n",
    "ts_values_test = test_obs.drop(columns = ['time_in_cycles']).groupby('engine_no').agg([cid_ce_func, n_peaks, \n",
    "                                                                                   last_location_of_maximum,\n",
    "                                                                                   skewness, sample_entropy])\n",
    "\n",
    "# Rename the columns\n",
    "new_cols = []\n",
    "\n",
    "for col in ts_values_test.columns.levels[0]:\n",
    "    for stat in ts_values_test.columns.levels[1]:\n",
    "        new_cols.append(f'{col}-{stat}')\n",
    "        \n",
    "        \n",
    "ts_values_test.columns = new_cols"
   ]
  },
  {
   "cell_type": "code",
   "execution_count": null,
   "metadata": {},
   "outputs": [],
   "source": [
    "test_agg = test_agg.merge(ts_values_test, on = 'engine_no', how = 'outer')"
   ]
  },
  {
   "cell_type": "markdown",
   "metadata": {},
   "source": [
    "Finally, we can apply feature selection and then evalute the new set of features."
   ]
  },
  {
   "cell_type": "code",
   "execution_count": null,
   "metadata": {},
   "outputs": [],
   "source": [
    "train_agg_fs = feature_selection(train_agg, 90, 0.95)\n",
    "final_features = list(train_agg_fs.columns)\n",
    "test_agg_fs = test_agg[train_agg_fs.columns]"
   ]
  },
  {
   "cell_type": "code",
   "execution_count": null,
   "metadata": {},
   "outputs": [],
   "source": [
    "preds = evaluate(train_agg_fs, train_labels, test_agg_fs, test_labels)"
   ]
  },
  {
   "cell_type": "markdown",
   "metadata": {},
   "source": [
    "Again, we see that these features do not outperform the simple aggregations on the testing data. This might show that the new features are not helping the model."
   ]
  },
  {
   "cell_type": "markdown",
   "metadata": {},
   "source": [
    "## Random Search\n",
    "\n",
    "The model we used to evaluate the features was an unoptimized random forest. In order to make sure we are getting the most out of the model, we should perform random search over the hyperparameters. To do this, we can use [`RandomizedSearchCV` from Scikit-Learn](http://scikit-learn.org/stable/modules/generated/sklearn.model_selection.RandomizedSearchCV.html). The process is as follows:\n",
    "\n",
    "1. Select a metric: we already made a scorer using MAPE\n",
    "2. Define a hyperparameter grid over the search domain for the following hyperparameters:\n",
    "    * `n_estimators`\n",
    "    * `max_depth`\n",
    "    * `min_samples_leaf`\n",
    "    * `max_features`\n",
    "3. Run random search for 100 iterations\n",
    "4. Extract the best hyperparameters and use these for the final model\n",
    "\n",
    "__We will only use the random search on the final set of features because these had the best performance in cross validation.__"
   ]
  },
  {
   "cell_type": "code",
   "execution_count": null,
   "metadata": {},
   "outputs": [],
   "source": [
    "from sklearn.model_selection import RandomizedSearchCV\n",
    "\n",
    "scorer = mape_scorer\n",
    "\n",
    "# Hyperparameter grid\n",
    "param_grid = {\n",
    "    'n_estimators': [int(x) for x in np.linspace(50, 1000, num = 100)],\n",
    "    'max_depth': [None] + [int(x) for x in np.linspace(4, 20)],\n",
    "    'min_samples_leaf': [1, 2, 5, 10],\n",
    "    'max_features': ['auto', 'sqrt', 0.5, 'log2', None]\n",
    "}"
   ]
  },
  {
   "cell_type": "code",
   "execution_count": null,
   "metadata": {},
   "outputs": [],
   "source": [
    "# Make a model \n",
    "reg = RandomForestRegressor(n_jobs = -1, random_state = 50)\n",
    "\n",
    "# RandomizedSearchCV object\n",
    "random = RandomizedSearchCV(reg, param_grid, n_iter = 100, scoring = scorer, \n",
    "                            verbose = 1, n_jobs = -1, cv = 5, random_state = 50)\n",
    "\n",
    "# Fit on the training data\n",
    "random.fit(train_agg_fs, train_labels)"
   ]
  },
  {
   "cell_type": "code",
   "execution_count": null,
   "metadata": {},
   "outputs": [],
   "source": [
    "random.best_params_"
   ]
  },
  {
   "cell_type": "markdown",
   "metadata": {},
   "source": [
    "### Evaluate Best Model\n",
    "\n",
    "We'll use the set of feature from aggregations, kmeans clustering, and time-series analysis along with the optimal hyperparameters to train one final model. Through random search with cross validation, we are making the assumption that the hyperparameters that do the best in cross validation will translate to doing well on the testing data. "
   ]
  },
  {
   "cell_type": "code",
   "execution_count": null,
   "metadata": {},
   "outputs": [],
   "source": [
    "best_score = -1 * random.best_score_\n",
    "best_score_std = random.cv_results_['std_test_score'][np.argmax(random.cv_results_['mean_test_score'])]\n",
    "best_model = random.best_estimator_\n",
    "\n",
    "# Need to impute the values on the test data\n",
    "imputer.fit(train_agg_fs)\n",
    "test_agg_fs = test_agg_fs.replace({np.inf: np.nan})\n",
    "test_agg_fs = imputer.transform(test_agg_fs) "
   ]
  },
  {
   "cell_type": "code",
   "execution_count": null,
   "metadata": {},
   "outputs": [],
   "source": [
    "# Make predictions on the. test data\n",
    "preds = best_model.predict(test_agg_fs)\n",
    "final_mape = mape(test_labels, preds)\n",
    "\n",
    "print('5-fold Cross Validation MAPE: {:.2f} with std: {:.2f}'.format(best_score, best_score_std))\n",
    "print('Test MAPE: {:.2f}.'.format(final_mape))"
   ]
  },
  {
   "cell_type": "markdown",
   "metadata": {},
   "source": [
    "The 5-fold cross validation MAPE stayed about the same, but the Test MAPE has slightly decreased over the unoptimized random forest. "
   ]
  },
  {
   "cell_type": "code",
   "execution_count": null,
   "metadata": {},
   "outputs": [],
   "source": [
    "fi = pd.DataFrame({'feature': final_features, 'importance': best_model.feature_importances_})\n",
    "norm_fi = plot_feature_importances(fi)"
   ]
  },
  {
   "cell_type": "markdown",
   "metadata": {},
   "source": [
    "It does not appear that the KMeans clustering had much effect on the model because none of the top 15 most important features involve the cluster. The complexity and entropy both make it into the top features suggesting these may have a beneficial effect on the model. \n",
    "\n",
    "__Overall, the simple aggregations and the more complex time-series methods, along with random search to optimize the hyperparameters, yields the best model performance on the test data__."
   ]
  },
  {
   "cell_type": "markdown",
   "metadata": {},
   "source": [
    "# Conclusions \n",
    "\n",
    "After several rounds of manual feature engineering following are the results (the scores may have changed slightly over runs of the notebook. Even setting a random seed for the model did not result in identical performance metrics):\n",
    "\n",
    "| Feature Set                                                      \t| Model                   \t| Number of Features   (before selection) \t| Number of Features   (after selection) \t| Time to Build \t| 5-fold Train CV MAPE \t| Test MAPE \t|\n",
    "|------------------------------------------------------------------\t|-------------------------\t|-----------------------------------------\t|----------------------------------------\t|---------------\t|----------------------\t|-----------\t|\n",
    "| Baseline Average Train Label Guess                               \t| -                       \t| -                                       \t| -                                      \t| 15 seconds    \t| 158.89 (0.00)        \t| 226.44    \t|\n",
    "| Baseline Half Life Guess                                         \t| -                       \t| -                                       \t| -                                      \t| 30 seconds    \t| 614.89 (0.00)        \t| 926.51    \t|\n",
    "| Simple Aggregations (No Feature Selection)                       \t| Default Random Forest   \t| 150                                     \t| 150                                    \t| 120 minutes    \t| 44.56 (3.22)         \t| 232.47    \t|\n",
    "| Simple Aggregations (With Feature Selection)                      \t| Default Random Forest   \t| 150                                     \t| 42                                     \t| 120 minutes    \t| 46.62 (4.46)         \t| 51.48     \t|\n",
    "| Simple Aggregations +  Percent Change and Cumuluative Sum        \t| Default Random Forest   \t| 455                                     \t| 88                                     \t| 150 minutes   \t| 46.13 (4.93)         \t| 53.11     \t|\n",
    "| Simple Aggregations + KMeans Clustering and Time-Series Analysis \t| Default Random Forest   \t| 305                                     \t| 88                                     \t| 180 minutes   \t| 45.36 (5.35)         \t| 50.33     \t|\n",
    "| Simple Aggregations + KMeans Clustering and Time-Series Analysis \t| Optimized Random Forest \t| 305                                     \t| 88                                     \t| 180 minutes   \t| 45.33 (5.98)         \t| 48.54     \t|\n",
    "\n",
    "The best performing model used the simple aggregations, KMeans clustering, and time-series analysis features along with the optimized random forest model. These results highlight several important takeaways:\n",
    "\n",
    "1. Feature Engineering is critical. A simple baseline guess is very poor for this problem.\n",
    "2. Feature Selection is critical. The simple aggregation set of features resulted in significant overfitting to the training set before proper feature selection was applied. \n",
    "3. Beyond a certain point, adding more complex features has diminishing returns to performance gains for this problem.\n",
    "4. Model hyperparameter tuning can improve performance, but the gains are much smaller than those from feature engineering.\n",
    "\n",
    "There were many more operations we could have applied to the data to generate features that we did not. For manual feature engineering, we are limited only by our imagination and patience. However, once we get to a certain level of performance, squeezing out every last bit of accuracy is secondary to [model interpretability](https://www.oreilly.com/learning/introduction-to-local-interpretable-model-agnostic-explanations-lime). We might want to forgo complex operations and sacrifice a minor bit of performance in order to create a more interpretable model. \n",
    "\n",
    "Overall, manual feature engineering was effective for this problem and resulted in a model that significantly outperforms the baseline. Nonetheless, manual feature engineering is still time-consuming, error-prone, and does not translate between problems because we have to completely re-write the code for each dataset. In the next notebook, we will implement automated feature engineering using [Featuretools](https://www.featuretools.com/), which is significantly more efficient, can be applied to any dataset with only minor changes in syntax, and will allow us to create hundreds or thousands of features which are not limited by our creavity or our time."
   ]
  },
  {
   "cell_type": "code",
   "execution_count": null,
   "metadata": {},
   "outputs": [],
   "source": []
  }
 ],
 "metadata": {
  "kernelspec": {
   "display_name": "Python 3",
   "language": "python",
   "name": "python3"
  },
  "language_info": {
   "codemirror_mode": {
    "name": "ipython",
    "version": 3
   },
   "file_extension": ".py",
   "mimetype": "text/x-python",
   "name": "python",
   "nbconvert_exporter": "python",
   "pygments_lexer": "ipython3",
   "version": "3.6.6"
  },
  "toc": {
   "base_numbering": 1,
   "nav_menu": {},
   "number_sections": true,
   "sideBar": true,
   "skip_h1_title": false,
   "title_cell": "Table of Contents",
   "title_sidebar": "Contents",
   "toc_cell": false,
   "toc_position": {},
   "toc_section_display": true,
   "toc_window_display": false
  }
 },
 "nbformat": 4,
 "nbformat_minor": 2
}
